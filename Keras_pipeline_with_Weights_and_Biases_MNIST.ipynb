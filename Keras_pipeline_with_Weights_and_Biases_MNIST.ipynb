{
  "cells": [
    {
      "cell_type": "markdown",
      "metadata": {
        "id": "7_ie4AoGYM1L"
      },
      "source": [
        "# Weights & Biases using Keras for MNIST Dataset"
      ]
    },
    {
      "cell_type": "code",
      "execution_count": 22,
      "metadata": {
        "id": "uFC4a7GhYM1L",
        "colab": {
          "base_uri": "https://localhost:8080/"
        },
        "outputId": "4f51f549-87f8-40a9-d562-8b9622e2e5c6"
      },
      "outputs": [
        {
          "output_type": "stream",
          "name": "stdout",
          "text": [
            "Requirement already satisfied: python-mnist in /usr/local/lib/python3.7/dist-packages (0.7)\n"
          ]
        }
      ],
      "source": [
        "# For Weights and Biases\n",
        "!pip install -qq wandb\n",
        "# To download the dataset\n",
        "!pip install python-mnist"
      ]
    },
    {
      "cell_type": "code",
      "execution_count": 23,
      "metadata": {
        "colab": {
          "base_uri": "https://localhost:8080/"
        },
        "id": "Q8K1ruUZYM1M",
        "outputId": "459fc560-8082-4aad-ddaf-6acf28f7a17e"
      },
      "outputs": [
        {
          "output_type": "stream",
          "name": "stdout",
          "text": [
            "TF:  2.8.0\n",
            "W&B:  0.12.16\n"
          ]
        }
      ],
      "source": [
        "## General Dependencies\n",
        "import os\n",
        "import random\n",
        "import numpy as np\n",
        "import pandas as pd\n",
        "import matplotlib.pyplot as plt\n",
        "import matplotlib.cm as cm\n",
        "%matplotlib inline\n",
        "\n",
        "# For Deep Learning\n",
        "import tensorflow as tf\n",
        "print(\"TF: \", tf.__version__)\n",
        "from tensorflow.keras import layers\n",
        "from tensorflow.keras import models\n",
        "\n",
        "# For MLOps\n",
        "import wandb\n",
        "print(\"W&B: \", wandb.__version__)\n",
        "from wandb.keras import WandbCallback\n",
        "\n",
        "# For medMNIST dataset\n",
        "#print(\"medMNIST: \", mnist.__version__)\n",
        "#INFO = \n",
        "# import medmnist\n",
        "# print(\"medMNIST: \", medmnist.__version__)\n",
        "# from medmnist import INFO\n",
        "\n",
        "from keras.datasets import mnist\n",
        "# import mnist\n",
        "# print(\"medMNIST: \", medmnist.__version__)\n",
        "# from mnist import"
      ]
    },
    {
      "cell_type": "code",
      "execution_count": 24,
      "metadata": {
        "colab": {
          "base_uri": "https://localhost:8080/"
        },
        "id": "ofn021wgYM1N",
        "outputId": "7ec6eea4-7675-4482-e1c8-78357f6cc820"
      },
      "outputs": [
        {
          "output_type": "stream",
          "name": "stderr",
          "text": [
            "\u001b[34m\u001b[1mwandb\u001b[0m: \u001b[33mWARNING\u001b[0m Calling wandb.login() after wandb.init() has no effect.\n"
          ]
        },
        {
          "output_type": "execute_result",
          "data": {
            "text/plain": [
              "True"
            ]
          },
          "metadata": {},
          "execution_count": 24
        }
      ],
      "source": [
        "#Authorizing the users\n",
        "\n",
        "wandb.login()"
      ]
    },
    {
      "cell_type": "code",
      "execution_count": 25,
      "metadata": {
        "id": "bUYTmf6hYM1N"
      },
      "outputs": [],
      "source": [
        "#Config to run the file\n",
        "\n",
        "configs = dict(\n",
        "    data_flag = 'mnist',\n",
        "    image_width = 32,\n",
        "    image_height = 32,\n",
        "    batch_size = 128,\n",
        "    model_name = 'vgg16',\n",
        "    pretrain_weights = 'imagenet',\n",
        "    epochs = 20,\n",
        "    init_learning_rate = 0.001,\n",
        "    lr_decay_rate = 0.1,\n",
        "    optimizer = 'adam',\n",
        "    loss_fn = 'sparse_categorical_crossentropy',\n",
        "    metrics = ['acc'],\n",
        "    earlystopping_patience = 5\n",
        ")"
      ]
    },
    {
      "cell_type": "code",
      "execution_count": 26,
      "metadata": {
        "colab": {
          "base_uri": "https://localhost:8080/"
        },
        "id": "PPZPEsz8YM1O",
        "outputId": "5ba3d8f5-e375-43be-c1e0-34f2170b9a8b"
      },
      "outputs": [
        {
          "output_type": "stream",
          "name": "stdout",
          "text": [
            "{0: 0, 1: 1, 2: 2, 3: 3, 4: 4, 5: 5, 6: 6, 7: 7, 8: 8, 9: 9}\n",
            "1\n",
            "[5 0 4 ... 5 6 8]\n",
            "[7 2 1 ... 4 5 6]\n"
          ]
        }
      ],
      "source": [
        "#info = INFO[configs['data_flag']]\n",
        "configs['class_names'] = {0: 0, 1:1, 2:2, 3:3, 4:4, 5:5, 6:6, 7:7, 8:8, 9:9}\n",
        "#configs['class_names'] = info['label']\n",
        "# configs['image_channels'] = info['n_channels']\n",
        "configs['image_channels'] = 1\n",
        "\n",
        "print(configs['class_names'])\n",
        "print(configs['image_channels'])\n",
        "(train_images, train_labels), (test_images, test_labels) = mnist.load_data()\n",
        "print(train_labels)\n",
        "print(test_labels)\n",
        "#info"
      ]
    },
    {
      "cell_type": "code",
      "execution_count": 27,
      "metadata": {
        "id": "lPHpEMVZYM1O"
      },
      "outputs": [],
      "source": [
        "# Preparing Dataset\n",
        "def download_and_prepare_dataset(data_info: dict):\n",
        "    \"\"\"\n",
        "    Utility function to download the dataset and return train/valid/test images/labels.\n",
        "\n",
        "    Arguments:\n",
        "        data_info (dict): Dataset metadata\n",
        "    \"\"\"\n",
        "    data_path = tf.keras.utils.get_file(origin=data_info['url'], md5_hash=data_info['MD5'])\n",
        "\n",
        "    with np.load(data_path) as data:\n",
        "        # Get images\n",
        "        train_images = data['train_images']\n",
        "        valid_images = data['val_images']\n",
        "        test_images = data['test_images']\n",
        "\n",
        "        # Get labels\n",
        "        train_labels = data['train_labels'].flatten()\n",
        "        valid_labels = data['val_labels'].flatten()\n",
        "        test_labels = data['test_labels'].flatten()\n",
        "\n",
        "    return train_images, train_labels, valid_images, valid_labels, test_images, test_labels"
      ]
    },
    {
      "cell_type": "code",
      "execution_count": 28,
      "metadata": {
        "colab": {
          "base_uri": "https://localhost:8080/"
        },
        "id": "QxRb5XMGYM1P",
        "outputId": "7730f0e4-e758-4d35-acf0-cb9afec931d4"
      },
      "outputs": [
        {
          "output_type": "stream",
          "name": "stdout",
          "text": [
            "Number of train images : 1000 to be logged\n"
          ]
        }
      ],
      "source": [
        "# For demonstration purposes\n",
        "log_full = False #@param {type:\"boolean\"}\n",
        "\n",
        "if log_full:\n",
        "    log_train_samples = len(train_images)\n",
        "else:\n",
        "    log_train_samples = 1000 \n",
        "\n",
        "print(f'Number of train images : {log_train_samples} to be logged')"
      ]
    },
    {
      "cell_type": "code",
      "execution_count": 29,
      "metadata": {
        "colab": {
          "base_uri": "https://localhost:8080/",
          "height": 280,
          "referenced_widgets": [
            "07c955f659d8458091ac60b4f94540d6",
            "9bd3c62dc3ba446f807467b85f3cbc75",
            "8a026974595b4273af919541d817b40f",
            "90b3abcea6d9403e85799bcc9e4730bd",
            "74dc53996cb64e45ae9924476fd1ec67",
            "3c41c1159af44287b0ec7340135d59e6",
            "2510cc122ec94cdcad96ac1b3da2572a",
            "6959cb5a8af24811ac35eab6a216efd4",
            "2486bf3a8bc446b4ad6b908378e3c7a2",
            "904d7a3cb97d4b58b2c5e6a21ea18a8e",
            "b2752eb4afe243f387116c90f4b73d5b",
            "0ceac755da4643c5a4b1bbb4e0bca26d",
            "464b8809f6fd441d9ae994d5e39a8c7e",
            "564efc40448b460eb28cb40b8db0f36c",
            "2d3977afd691418ca5ad4dd5f6f477e6",
            "6e63e608b25045d58aa7a0c18b8ed1d7"
          ]
        },
        "id": "E2BW5Z6sYM1P",
        "outputId": "4aa03c82-dca3-4446-8333-572850ae9207"
      },
      "outputs": [
        {
          "output_type": "display_data",
          "data": {
            "text/plain": [
              "<IPython.core.display.HTML object>"
            ],
            "text/html": [
              "Finishing last run (ID:24fc1mm4) before initializing another..."
            ]
          },
          "metadata": {}
        },
        {
          "output_type": "display_data",
          "data": {
            "text/plain": [
              "<IPython.core.display.HTML object>"
            ],
            "text/html": [
              "Waiting for W&B process to finish... <strong style=\"color:green\">(success).</strong>"
            ]
          },
          "metadata": {}
        },
        {
          "output_type": "display_data",
          "data": {
            "text/plain": [
              "VBox(children=(Label(value='0.003 MB of 0.003 MB uploaded (0.000 MB deduped)\\r'), FloatProgress(value=1.0, max…"
            ],
            "application/vnd.jupyter.widget-view+json": {
              "version_major": 2,
              "version_minor": 0,
              "model_id": "07c955f659d8458091ac60b4f94540d6"
            }
          },
          "metadata": {}
        },
        {
          "output_type": "display_data",
          "data": {
            "text/plain": [
              "<IPython.core.display.HTML object>"
            ],
            "text/html": [
              "Synced <strong style=\"color:#cdcd00\">smart-violet-15</strong>: <a href=\"https://wandb.ai/psingla/uncategorized/runs/24fc1mm4\" target=\"_blank\">https://wandb.ai/psingla/uncategorized/runs/24fc1mm4</a><br/>Synced 5 W&B file(s), 1 media file(s), 1 artifact file(s) and 0 other file(s)"
            ]
          },
          "metadata": {}
        },
        {
          "output_type": "display_data",
          "data": {
            "text/plain": [
              "<IPython.core.display.HTML object>"
            ],
            "text/html": [
              "Find logs at: <code>./wandb/run-20220508_014355-24fc1mm4/logs</code>"
            ]
          },
          "metadata": {}
        },
        {
          "output_type": "display_data",
          "data": {
            "text/plain": [
              "<IPython.core.display.HTML object>"
            ],
            "text/html": [
              "Successfully finished last run (ID:24fc1mm4). Initializing new run:<br/>"
            ]
          },
          "metadata": {}
        },
        {
          "output_type": "display_data",
          "data": {
            "text/plain": [
              "<IPython.core.display.HTML object>"
            ],
            "text/html": [
              "Tracking run with wandb version 0.12.16"
            ]
          },
          "metadata": {}
        },
        {
          "output_type": "display_data",
          "data": {
            "text/plain": [
              "<IPython.core.display.HTML object>"
            ],
            "text/html": [
              "Run data is saved locally in <code>/content/wandb/run-20220508_014513-24nw6qki</code>"
            ]
          },
          "metadata": {}
        },
        {
          "output_type": "display_data",
          "data": {
            "text/plain": [
              "<IPython.core.display.HTML object>"
            ],
            "text/html": [
              "Syncing run <strong><a href=\"https://wandb.ai/psingla/mnist/runs/24nw6qki\" target=\"_blank\">curious-resonance-23</a></strong> to <a href=\"https://wandb.ai/psingla/mnist\" target=\"_blank\">Weights & Biases</a> (<a href=\"https://wandb.me/run\" target=\"_blank\">docs</a>)<br/>"
            ]
          },
          "metadata": {}
        },
        {
          "output_type": "display_data",
          "data": {
            "text/plain": [
              "<IPython.core.display.HTML object>"
            ],
            "text/html": [
              "Waiting for W&B process to finish... <strong style=\"color:green\">(success).</strong>"
            ]
          },
          "metadata": {}
        },
        {
          "output_type": "display_data",
          "data": {
            "text/plain": [
              "VBox(children=(Label(value='0.001 MB of 0.001 MB uploaded (0.000 MB deduped)\\r'), FloatProgress(value=1.0, max…"
            ],
            "application/vnd.jupyter.widget-view+json": {
              "version_major": 2,
              "version_minor": 0,
              "model_id": "2486bf3a8bc446b4ad6b908378e3c7a2"
            }
          },
          "metadata": {}
        },
        {
          "output_type": "display_data",
          "data": {
            "text/plain": [
              "<IPython.core.display.HTML object>"
            ],
            "text/html": [
              "Synced <strong style=\"color:#cdcd00\">curious-resonance-23</strong>: <a href=\"https://wandb.ai/psingla/mnist/runs/24nw6qki\" target=\"_blank\">https://wandb.ai/psingla/mnist/runs/24nw6qki</a><br/>Synced 4 W&B file(s), 0 media file(s), 0 artifact file(s) and 0 other file(s)"
            ]
          },
          "metadata": {}
        },
        {
          "output_type": "display_data",
          "data": {
            "text/plain": [
              "<IPython.core.display.HTML object>"
            ],
            "text/html": [
              "Find logs at: <code>./wandb/run-20220508_014513-24nw6qki/logs</code>"
            ]
          },
          "metadata": {}
        },
        {
          "output_type": "stream",
          "name": "stdout",
          "text": [
            "CPU times: user 9.11 s, sys: 1.75 s, total: 10.9 s\n",
            "Wall time: 30.6 s\n"
          ]
        }
      ],
      "source": [
        "%%time\n",
        "\n",
        "# Initialize a new W&B run\n",
        "run = wandb.init(project='mnist', group='viz_data')\n",
        "\n",
        "# Intialize a W&B Artifacts\n",
        "ds = wandb.Artifact(\"mnist_dataset\", \"dataset\")\n",
        "\n",
        "# Initialize an empty table\n",
        "train_table = wandb.Table(columns=[], data=[])\n",
        "# Add training data\n",
        "train_table.add_column('image', train_images[:log_train_samples])\n",
        "# Add training label_id\n",
        "train_table.add_column('label_id', train_labels[:log_train_samples])\n",
        "# Add training class names\n",
        "train_table.add_computed_columns(lambda ndx, row:{\n",
        "    \"images\": wandb.Image(row[\"image\"]),\n",
        "    \"class_names\": configs['class_names'][row[\"label_id\"]]\n",
        "    })\n",
        "\n",
        "# Add the table to the Artifact\n",
        "ds['train_data'] = train_table\n",
        "\n",
        "# Let's do the same for the validation data\n",
        "test_table = wandb.Table(columns=[], data=[])\n",
        "test_table.add_column('image', test_images)\n",
        "test_table.add_column('label_id', test_labels)\n",
        "test_table.add_computed_columns(lambda ndx, row:{\n",
        "    \"images\": wandb.Image(row[\"image\"]),\n",
        "    \"class_name\": configs['class_names'][row[\"label_id\"]]\n",
        "    })\n",
        "ds['test_data'] = test_table\n",
        "\n",
        "# Save the dataset as an Artifact\n",
        "ds.save()\n",
        "\n",
        "# Finish the run\n",
        "wandb.finish()"
      ]
    },
    {
      "cell_type": "code",
      "execution_count": 30,
      "metadata": {
        "id": "uQOYCTcpYM1Q"
      },
      "outputs": [],
      "source": [
        "#@title\n",
        "@tf.function\n",
        "def preprocess(image: tf.Tensor, label: tf.Tensor):\n",
        "    \"\"\"\n",
        "    Preprocess the image tensors and parse the labels\n",
        "    \"\"\"\n",
        "    # Preprocess images\n",
        "    image = tf.image.convert_image_dtype(image, tf.float32)\n",
        "    \n",
        "    # Parse label\n",
        "    label = tf.cast(label, tf.float32)\n",
        "    \n",
        "    return image, label\n",
        "\n",
        "\n",
        "def prepare_dataloader(images: np.ndarray,\n",
        "                       labels: np.ndarray,\n",
        "                       loader_type: str='train',\n",
        "                       batch_size: int=128):\n",
        "    \"\"\"\n",
        "    Utility function to prepare dataloader.\n",
        "    \"\"\"\n",
        "    dataset = tf.data.Dataset.from_tensor_slices((images, labels))\n",
        "\n",
        "    if loader_type=='train':\n",
        "        dataset = dataset.shuffle(1024)\n",
        "\n",
        "    dataloader = (\n",
        "        dataset\n",
        "        .map(preprocess, num_parallel_calls=tf.data.AUTOTUNE)\n",
        "        .batch(batch_size)\n",
        "        .prefetch(tf.data.AUTOTUNE)\n",
        "    )\n",
        "\n",
        "    return dataloader"
      ]
    },
    {
      "cell_type": "code",
      "execution_count": 31,
      "metadata": {
        "id": "Q9Uj5eaKYM1Q"
      },
      "outputs": [],
      "source": [
        "trainloader = prepare_dataloader(train_images, train_labels, 'train', configs.get('batch_size', 64))\n",
        "#validloader = prepare_dataloader(valid_images, valid_labels, 'valid', configs.get('batch_size', 64))\n",
        "testloader = prepare_dataloader(test_images, test_labels, 'test', configs.get('batch_size', 64))"
      ]
    },
    {
      "cell_type": "code",
      "execution_count": 32,
      "metadata": {
        "id": "lIhsEFUkYM1R"
      },
      "outputs": [],
      "source": [
        "img_augmentation = models.Sequential(\n",
        "    [\n",
        "        layers.RandomRotation(factor=0.15),\n",
        "        layers.RandomFlip()],\n",
        "    name=\"img_augmentation\",\n",
        ")"
      ]
    },
    {
      "cell_type": "markdown",
      "metadata": {
        "id": "nZMKdK_IYM1R"
      },
      "source": [
        "# Model\n"
      ]
    },
    {
      "cell_type": "code",
      "execution_count": 33,
      "metadata": {
        "id": "l2KHJ0I-YM1R",
        "colab": {
          "base_uri": "https://localhost:8080/"
        },
        "outputId": "a33c055e-2c65-4cc9-de88-2346b481e464"
      },
      "outputs": [
        {
          "output_type": "stream",
          "name": "stdout",
          "text": [
            "Model: \"model\"\n",
            "_________________________________________________________________\n",
            " Layer (type)                Output Shape              Param #   \n",
            "=================================================================\n",
            " input_1 (InputLayer)        [(None, 28, 28, 1)]       0         \n",
            "                                                                 \n",
            " conv2d (Conv2D)             (None, 28, 28, 4)         104       \n",
            "                                                                 \n",
            " conv2d_1 (Conv2D)           (None, 14, 14, 8)         808       \n",
            "                                                                 \n",
            " conv2d_2 (Conv2D)           (None, 7, 7, 12)          1548      \n",
            "                                                                 \n",
            " flatten (Flatten)           (None, 588)               0         \n",
            "                                                                 \n",
            " dense (Dense)               (None, 200)               117800    \n",
            "                                                                 \n",
            " dropout (Dropout)           (None, 200)               0         \n",
            "                                                                 \n",
            " dense_1 (Dense)             (None, 10)                2010      \n",
            "                                                                 \n",
            "=================================================================\n",
            "Total params: 122,270\n",
            "Trainable params: 122,270\n",
            "Non-trainable params: 0\n",
            "_________________________________________________________________\n"
          ]
        }
      ],
      "source": [
        "from tensorflow.keras.layers import Input, Dense, Conv2D, Flatten, Dropout\n",
        "from tensorflow.keras.optimizers import Adam\n",
        "from tensorflow.keras.models import Model\n",
        "\n",
        "def get_model():\n",
        "  \n",
        "    # inputs = layers.Input(input_shape)\n",
        "    # resize_img = layers.Resizing(resize[0], resize[1], interpolation='bilinear')(inputs)\n",
        "    # augment_img = img_augmentation(resize_img)\n",
        "  \n",
        "    # base_model = tf.keras.applications.VGG16(include_top=False, \n",
        "    #                                          weights=configs['pretrain_weights'], \n",
        "    #                                          input_shape=resize)\n",
        "    #                                          #input_tensor=augment_img)\n",
        "    # base_model.trainabe = True\n",
        "\n",
        "    \n",
        "    # x = base_model.output\n",
        "    # x = layers.GlobalAveragePooling2D()(x)\n",
        "    # x = layers.Dropout(dropout_rate)(x)\n",
        "    # outputs = layers.Dense(num_classes, activation=output_activation)(x)\n",
        "\n",
        "    # return models.Model(inputs, outputs)\n",
        "    input = Input(shape=(28, 28, 1))\n",
        "    x = Conv2D(4, (5, 5), strides=1, activation=\"relu\", padding=\"same\")(input)\n",
        "    x = Conv2D(8, (5, 5), strides=2, activation=\"relu\", padding=\"same\")(x)\n",
        "    x = Conv2D(12, (4, 4), strides=2, activation=\"relu\", padding=\"same\")(x)\n",
        "    x = Flatten()(x)\n",
        "    x = Dense(200, activation=\"relu\")(x)\n",
        "    x = Dropout(0.1)(x)\n",
        "    output = Dense(10, activation=\"softmax\")(x)\n",
        "    model = Model(inputs=input, outputs=output)\n",
        "    model.compile(loss=\"categorical_crossentropy\",\n",
        "                  optimizer=Adam(),\n",
        "                  metrics=[\"accuracy\"])\n",
        "    return model\n",
        "\n",
        "tf.keras.backend.clear_session()\n",
        "model = get_model()\n",
        "model.summary()"
      ]
    },
    {
      "cell_type": "code",
      "execution_count": 34,
      "metadata": {
        "id": "TUCbNDAQYM1S"
      },
      "outputs": [],
      "source": [
        "earlystopper = tf.keras.callbacks.EarlyStopping(\n",
        "    monitor='val_loss', patience=configs['earlystopping_patience'], verbose=0, mode='auto',\n",
        "    restore_best_weights=True\n",
        ")"
      ]
    },
    {
      "cell_type": "code",
      "execution_count": 35,
      "metadata": {
        "id": "LeIo4FmNYM1S"
      },
      "outputs": [],
      "source": [
        "def lr_scheduler(epoch, lr):\n",
        "    # log the current learning rate onto W&B\n",
        "    if wandb.run is None:\n",
        "        raise wandb.Error(\"You must call wandb.init() before WandbCallback()\")\n",
        "\n",
        "    wandb.log({'learning_rate': lr}, commit=False)\n",
        "    \n",
        "    if epoch < 7:\n",
        "        return lr\n",
        "    else:\n",
        "        return lr * tf.math.exp(-configs['lr_decay_rate'])\n",
        "\n",
        "lr_callback = tf.keras.callbacks.LearningRateScheduler(lr_scheduler)"
      ]
    },
    {
      "cell_type": "code",
      "execution_count": 36,
      "metadata": {
        "id": "GTRPtz2sYM1S"
      },
      "outputs": [],
      "source": [
        "def train(config: dict, \n",
        "          callbacks: list,\n",
        "          verbose: int=0):\n",
        "    \"\"\"\n",
        "    Utility function to train the model.\n",
        "\n",
        "    Arguments:\n",
        "        config (dict): Dictionary of hyperparameters.\n",
        "        callbacks (list): List of callbacks passed to `model.fit`.\n",
        "        verbose (int): 0 for silent and 1 for progress bar.\n",
        "    \"\"\"\n",
        "\n",
        "    # Initalize model\n",
        "    tf.keras.backend.clear_session()\n",
        "    #resize=(config.image_width, config.image_height, config.image_channels)\n",
        "    model = get_model()\n",
        "\n",
        "    # Compile the model\n",
        "    opt = tf.keras.optimizers.Adam(learning_rate=config.init_learning_rate)\n",
        "    model.compile(opt,\n",
        "                  config.loss_fn,\n",
        "                  metrics=config.metrics)\n",
        "\n",
        "    # Train the model\n",
        "    _ = model.fit(trainloader,\n",
        "                  epochs=config.epochs,\n",
        "                  validation_data=testloader,\n",
        "                  callbacks=callbacks,\n",
        "                  verbose=verbose)\n",
        "\n",
        "    return model"
      ]
    },
    {
      "cell_type": "code",
      "execution_count": 37,
      "metadata": {
        "id": "0gvoDbpfYM1S",
        "colab": {
          "base_uri": "https://localhost:8080/",
          "height": 860,
          "referenced_widgets": [
            "438fd5ba961b4d198b65385932d6b099",
            "085a93751da141829045268cf0f888bb",
            "a90ea0ceb8d9432bb73678a5955b9665",
            "ea95f924777c4af3bd79dd77e02b467f",
            "0417dc07f57445d5b8c61965b0a819d0",
            "51cfa4a05f43455fa52369127e9232ae",
            "3b7ef31308a64ae780233b9ea7e7aede",
            "183ef6b40e9644d590ee07f912d34be9"
          ]
        },
        "outputId": "e32bef0e-51c4-484d-ae18-a9861b172d36"
      },
      "outputs": [
        {
          "output_type": "display_data",
          "data": {
            "text/plain": [
              "<IPython.core.display.HTML object>"
            ],
            "text/html": [
              "Tracking run with wandb version 0.12.16"
            ]
          },
          "metadata": {}
        },
        {
          "output_type": "display_data",
          "data": {
            "text/plain": [
              "<IPython.core.display.HTML object>"
            ],
            "text/html": [
              "Run data is saved locally in <code>/content/wandb/run-20220508_014544-1qwt8mym</code>"
            ]
          },
          "metadata": {}
        },
        {
          "output_type": "display_data",
          "data": {
            "text/plain": [
              "<IPython.core.display.HTML object>"
            ],
            "text/html": [
              "Syncing run <strong><a href=\"https://wandb.ai/psingla/mnist/runs/1qwt8mym\" target=\"_blank\">decent-wind-24</a></strong> to <a href=\"https://wandb.ai/psingla/mnist\" target=\"_blank\">Weights & Biases</a> (<a href=\"https://wandb.me/run\" target=\"_blank\">docs</a>)<br/>"
            ]
          },
          "metadata": {}
        },
        {
          "output_type": "stream",
          "name": "stdout",
          "text": [
            "Epoch 1/20\n",
            "469/469 [==============================] - 47s 99ms/step - loss: 0.3058 - acc: 0.9086 - val_loss: 0.0915 - val_acc: 0.9700 - _timestamp: 1651974397.0000 - _runtime: 53.0000 - lr: 0.0010\n",
            "Epoch 2/20\n",
            "469/469 [==============================] - 46s 98ms/step - loss: 0.0938 - acc: 0.9711 - val_loss: 0.0585 - val_acc: 0.9804 - _timestamp: 1651974478.0000 - _runtime: 134.0000 - lr: 0.0010\n",
            "Epoch 3/20\n",
            "469/469 [==============================] - 46s 98ms/step - loss: 0.0673 - acc: 0.9787 - val_loss: 0.0511 - val_acc: 0.9833 - _timestamp: 1651974560.0000 - _runtime: 216.0000 - lr: 0.0010\n",
            "Epoch 4/20\n",
            "469/469 [==============================] - 46s 98ms/step - loss: 0.0507 - acc: 0.9846 - val_loss: 0.0519 - val_acc: 0.9829 - _timestamp: 1651974642.0000 - _runtime: 298.0000 - lr: 0.0010\n",
            "Epoch 5/20\n",
            "469/469 [==============================] - 45s 96ms/step - loss: 0.0426 - acc: 0.9864 - val_loss: 0.0445 - val_acc: 0.9859 - _timestamp: 1651974723.0000 - _runtime: 379.0000 - lr: 0.0010\n",
            "Epoch 6/20\n",
            "469/469 [==============================] - 46s 98ms/step - loss: 0.0371 - acc: 0.9882 - val_loss: 0.0393 - val_acc: 0.9862 - _timestamp: 1651974805.0000 - _runtime: 461.0000 - lr: 0.0010\n",
            "Epoch 7/20\n",
            "469/469 [==============================] - 46s 98ms/step - loss: 0.0310 - acc: 0.9903 - val_loss: 0.0407 - val_acc: 0.9867 - _timestamp: 1651974851.0000 - _runtime: 507.0000 - lr: 0.0010\n",
            "Epoch 8/20\n",
            "469/469 [==============================] - 47s 101ms/step - loss: 0.0256 - acc: 0.9916 - val_loss: 0.0414 - val_acc: 0.9866 - _timestamp: 1651974935.0000 - _runtime: 591.0000 - lr: 9.0484e-04\n",
            "Epoch 9/20\n",
            "469/469 [==============================] - 49s 103ms/step - loss: 0.0213 - acc: 0.9932 - val_loss: 0.0463 - val_acc: 0.9851 - _timestamp: 1651975018.0000 - _runtime: 674.0000 - lr: 8.1873e-04\n",
            "Epoch 10/20\n",
            "469/469 [==============================] - 48s 102ms/step - loss: 0.0190 - acc: 0.9938 - val_loss: 0.0444 - val_acc: 0.9861 - _timestamp: 1651975099.0000 - _runtime: 755.0000 - lr: 7.4082e-04\n",
            "Epoch 11/20\n",
            "469/469 [==============================] - 48s 103ms/step - loss: 0.0150 - acc: 0.9951 - val_loss: 0.0402 - val_acc: 0.9891 - _timestamp: 1651975181.0000 - _runtime: 837.0000 - lr: 6.7032e-04\n",
            "79/79 [==============================] - 3s 43ms/step - loss: 0.0393 - acc: 0.9862\n"
          ]
        },
        {
          "output_type": "display_data",
          "data": {
            "text/plain": [
              "<IPython.core.display.HTML object>"
            ],
            "text/html": [
              "Waiting for W&B process to finish... <strong style=\"color:green\">(success).</strong>"
            ]
          },
          "metadata": {}
        },
        {
          "output_type": "display_data",
          "data": {
            "text/plain": [
              "VBox(children=(Label(value='2.032 MB of 2.032 MB uploaded (0.000 MB deduped)\\r'), FloatProgress(value=1.0, max…"
            ],
            "application/vnd.jupyter.widget-view+json": {
              "version_major": 2,
              "version_minor": 0,
              "model_id": "438fd5ba961b4d198b65385932d6b099"
            }
          },
          "metadata": {}
        },
        {
          "output_type": "display_data",
          "data": {
            "text/plain": [
              "<IPython.core.display.HTML object>"
            ],
            "text/html": [
              "<style>\n",
              "    table.wandb td:nth-child(1) { padding: 0 10px; text-align: left ; width: auto;} td:nth-child(2) {text-align: left ; width: 100%}\n",
              "    .wandb-row { display: flex; flex-direction: row; flex-wrap: wrap; justify-content: flex-start; width: 100% }\n",
              "    .wandb-col { display: flex; flex-direction: column; flex-basis: 100%; flex: 1; padding: 10px; }\n",
              "    </style>\n",
              "<div class=\"wandb-row\"><div class=\"wandb-col\"><h3>Run history:</h3><br/><table class=\"wandb\"><tr><td>acc</td><td>▁▆▇▇▇▇█████</td></tr><tr><td>epoch</td><td>▁▂▂▃▄▅▅▆▇▇█</td></tr><tr><td>evaluate/accuracy</td><td>▁</td></tr><tr><td>learning_rate</td><td>████████▅▃▁</td></tr><tr><td>loss</td><td>█▃▂▂▂▂▁▁▁▁▁</td></tr><tr><td>val_acc</td><td>▁▅▆▆▇▇▇▇▇▇█</td></tr><tr><td>val_loss</td><td>█▄▃▃▂▁▁▁▂▂▁</td></tr></table><br/></div><div class=\"wandb-col\"><h3>Run summary:</h3><br/><table class=\"wandb\"><tr><td>acc</td><td>0.99512</td></tr><tr><td>best_epoch</td><td>5</td></tr><tr><td>best_val_loss</td><td>0.03926</td></tr><tr><td>epoch</td><td>10</td></tr><tr><td>evaluate/accuracy</td><td>0.9862</td></tr><tr><td>learning_rate</td><td>0.00074</td></tr><tr><td>loss</td><td>0.01497</td></tr><tr><td>val_acc</td><td>0.9891</td></tr><tr><td>val_loss</td><td>0.04016</td></tr></table><br/></div></div>"
            ]
          },
          "metadata": {}
        },
        {
          "output_type": "display_data",
          "data": {
            "text/plain": [
              "<IPython.core.display.HTML object>"
            ],
            "text/html": [
              "Synced <strong style=\"color:#cdcd00\">decent-wind-24</strong>: <a href=\"https://wandb.ai/psingla/mnist/runs/1qwt8mym\" target=\"_blank\">https://wandb.ai/psingla/mnist/runs/1qwt8mym</a><br/>Synced 5 W&B file(s), 2 media file(s), 1 artifact file(s) and 1 other file(s)"
            ]
          },
          "metadata": {}
        },
        {
          "output_type": "display_data",
          "data": {
            "text/plain": [
              "<IPython.core.display.HTML object>"
            ],
            "text/html": [
              "Find logs at: <code>./wandb/run-20220508_014544-1qwt8mym/logs</code>"
            ]
          },
          "metadata": {}
        }
      ],
      "source": [
        "# Initialize the W&B run\n",
        "run = wandb.init(project='mnist', config=configs, job_type='train')\n",
        "config = wandb.config\n",
        "\n",
        "# Define WandbCallback for experiment tracking\n",
        "wandb_callback = WandbCallback(monitor='val_loss',\n",
        "                               log_weights=True,\n",
        "                               log_evaluation=True,\n",
        "                               validation_steps=5)\n",
        "\n",
        "# callbacks\n",
        "callbacks = [earlystopper, wandb_callback, lr_callback]\n",
        "\n",
        "# Train\n",
        "model = train(config, callbacks=callbacks, verbose=1)\n",
        "\n",
        "# Evaluate the trained model\n",
        "loss, acc = model.evaluate(testloader)\n",
        "wandb.log({'evaluate/accuracy': acc})\n",
        "\n",
        "# Close the W&B run.\n",
        "wandb.finish()"
      ]
    },
    {
      "cell_type": "code",
      "source": [
        "wandb.init()\n",
        "predictions = model(test_images)\n",
        "ground_truth = test_labels\n",
        "wandb.log({\"roc\" : wandb.plot.roc_curve( ground_truth, predictions,\n",
        "                        labels=[0,1,2,3,4,5,6,7,8,9], classes_to_plot=None)})"
      ],
      "metadata": {
        "colab": {
          "base_uri": "https://localhost:8080/",
          "height": 69
        },
        "id": "CV7PRdDZ0h91",
        "outputId": "43cf14e2-0cb5-466b-aaf9-f973f9e57091"
      },
      "execution_count": 38,
      "outputs": [
        {
          "output_type": "display_data",
          "data": {
            "text/plain": [
              "<IPython.core.display.HTML object>"
            ],
            "text/html": [
              "Tracking run with wandb version 0.12.16"
            ]
          },
          "metadata": {}
        },
        {
          "output_type": "display_data",
          "data": {
            "text/plain": [
              "<IPython.core.display.HTML object>"
            ],
            "text/html": [
              "Run data is saved locally in <code>/content/wandb/run-20220508_015950-2ki60d2j</code>"
            ]
          },
          "metadata": {}
        },
        {
          "output_type": "display_data",
          "data": {
            "text/plain": [
              "<IPython.core.display.HTML object>"
            ],
            "text/html": [
              "Syncing run <strong><a href=\"https://wandb.ai/psingla/uncategorized/runs/2ki60d2j\" target=\"_blank\">wandering-field-16</a></strong> to <a href=\"https://wandb.ai/psingla/uncategorized\" target=\"_blank\">Weights & Biases</a> (<a href=\"https://wandb.me/run\" target=\"_blank\">docs</a>)<br/>"
            ]
          },
          "metadata": {}
        }
      ]
    }
  ],
  "metadata": {
    "colab": {
      "toc_visible": true,
      "name": "Keras_pipeline_with_Weights_and_Biases-MNIST.ipynb",
      "provenance": [],
      "collapsed_sections": []
    },
    "kernelspec": {
      "display_name": "Python 3 (ipykernel)",
      "language": "python",
      "name": "python3"
    },
    "widgets": {
      "application/vnd.jupyter.widget-state+json": {
        "07c955f659d8458091ac60b4f94540d6": {
          "model_module": "@jupyter-widgets/controls",
          "model_name": "VBoxModel",
          "model_module_version": "1.5.0",
          "state": {
            "_dom_classes": [],
            "_model_module": "@jupyter-widgets/controls",
            "_model_module_version": "1.5.0",
            "_model_name": "VBoxModel",
            "_view_count": null,
            "_view_module": "@jupyter-widgets/controls",
            "_view_module_version": "1.5.0",
            "_view_name": "VBoxView",
            "box_style": "",
            "children": [
              "IPY_MODEL_9bd3c62dc3ba446f807467b85f3cbc75",
              "IPY_MODEL_8a026974595b4273af919541d817b40f"
            ],
            "layout": "IPY_MODEL_90b3abcea6d9403e85799bcc9e4730bd"
          }
        },
        "9bd3c62dc3ba446f807467b85f3cbc75": {
          "model_module": "@jupyter-widgets/controls",
          "model_name": "LabelModel",
          "model_module_version": "1.5.0",
          "state": {
            "_dom_classes": [],
            "_model_module": "@jupyter-widgets/controls",
            "_model_module_version": "1.5.0",
            "_model_name": "LabelModel",
            "_view_count": null,
            "_view_module": "@jupyter-widgets/controls",
            "_view_module_version": "1.5.0",
            "_view_name": "LabelView",
            "description": "",
            "description_tooltip": null,
            "layout": "IPY_MODEL_74dc53996cb64e45ae9924476fd1ec67",
            "placeholder": "​",
            "style": "IPY_MODEL_3c41c1159af44287b0ec7340135d59e6",
            "value": "0.012 MB of 0.012 MB uploaded (0.000 MB deduped)\r"
          }
        },
        "8a026974595b4273af919541d817b40f": {
          "model_module": "@jupyter-widgets/controls",
          "model_name": "FloatProgressModel",
          "model_module_version": "1.5.0",
          "state": {
            "_dom_classes": [],
            "_model_module": "@jupyter-widgets/controls",
            "_model_module_version": "1.5.0",
            "_model_name": "FloatProgressModel",
            "_view_count": null,
            "_view_module": "@jupyter-widgets/controls",
            "_view_module_version": "1.5.0",
            "_view_name": "ProgressView",
            "bar_style": "",
            "description": "",
            "description_tooltip": null,
            "layout": "IPY_MODEL_2510cc122ec94cdcad96ac1b3da2572a",
            "max": 1,
            "min": 0,
            "orientation": "horizontal",
            "style": "IPY_MODEL_6959cb5a8af24811ac35eab6a216efd4",
            "value": 1
          }
        },
        "90b3abcea6d9403e85799bcc9e4730bd": {
          "model_module": "@jupyter-widgets/base",
          "model_name": "LayoutModel",
          "model_module_version": "1.2.0",
          "state": {
            "_model_module": "@jupyter-widgets/base",
            "_model_module_version": "1.2.0",
            "_model_name": "LayoutModel",
            "_view_count": null,
            "_view_module": "@jupyter-widgets/base",
            "_view_module_version": "1.2.0",
            "_view_name": "LayoutView",
            "align_content": null,
            "align_items": null,
            "align_self": null,
            "border": null,
            "bottom": null,
            "display": null,
            "flex": null,
            "flex_flow": null,
            "grid_area": null,
            "grid_auto_columns": null,
            "grid_auto_flow": null,
            "grid_auto_rows": null,
            "grid_column": null,
            "grid_gap": null,
            "grid_row": null,
            "grid_template_areas": null,
            "grid_template_columns": null,
            "grid_template_rows": null,
            "height": null,
            "justify_content": null,
            "justify_items": null,
            "left": null,
            "margin": null,
            "max_height": null,
            "max_width": null,
            "min_height": null,
            "min_width": null,
            "object_fit": null,
            "object_position": null,
            "order": null,
            "overflow": null,
            "overflow_x": null,
            "overflow_y": null,
            "padding": null,
            "right": null,
            "top": null,
            "visibility": null,
            "width": null
          }
        },
        "74dc53996cb64e45ae9924476fd1ec67": {
          "model_module": "@jupyter-widgets/base",
          "model_name": "LayoutModel",
          "model_module_version": "1.2.0",
          "state": {
            "_model_module": "@jupyter-widgets/base",
            "_model_module_version": "1.2.0",
            "_model_name": "LayoutModel",
            "_view_count": null,
            "_view_module": "@jupyter-widgets/base",
            "_view_module_version": "1.2.0",
            "_view_name": "LayoutView",
            "align_content": null,
            "align_items": null,
            "align_self": null,
            "border": null,
            "bottom": null,
            "display": null,
            "flex": null,
            "flex_flow": null,
            "grid_area": null,
            "grid_auto_columns": null,
            "grid_auto_flow": null,
            "grid_auto_rows": null,
            "grid_column": null,
            "grid_gap": null,
            "grid_row": null,
            "grid_template_areas": null,
            "grid_template_columns": null,
            "grid_template_rows": null,
            "height": null,
            "justify_content": null,
            "justify_items": null,
            "left": null,
            "margin": null,
            "max_height": null,
            "max_width": null,
            "min_height": null,
            "min_width": null,
            "object_fit": null,
            "object_position": null,
            "order": null,
            "overflow": null,
            "overflow_x": null,
            "overflow_y": null,
            "padding": null,
            "right": null,
            "top": null,
            "visibility": null,
            "width": null
          }
        },
        "3c41c1159af44287b0ec7340135d59e6": {
          "model_module": "@jupyter-widgets/controls",
          "model_name": "DescriptionStyleModel",
          "model_module_version": "1.5.0",
          "state": {
            "_model_module": "@jupyter-widgets/controls",
            "_model_module_version": "1.5.0",
            "_model_name": "DescriptionStyleModel",
            "_view_count": null,
            "_view_module": "@jupyter-widgets/base",
            "_view_module_version": "1.2.0",
            "_view_name": "StyleView",
            "description_width": ""
          }
        },
        "2510cc122ec94cdcad96ac1b3da2572a": {
          "model_module": "@jupyter-widgets/base",
          "model_name": "LayoutModel",
          "model_module_version": "1.2.0",
          "state": {
            "_model_module": "@jupyter-widgets/base",
            "_model_module_version": "1.2.0",
            "_model_name": "LayoutModel",
            "_view_count": null,
            "_view_module": "@jupyter-widgets/base",
            "_view_module_version": "1.2.0",
            "_view_name": "LayoutView",
            "align_content": null,
            "align_items": null,
            "align_self": null,
            "border": null,
            "bottom": null,
            "display": null,
            "flex": null,
            "flex_flow": null,
            "grid_area": null,
            "grid_auto_columns": null,
            "grid_auto_flow": null,
            "grid_auto_rows": null,
            "grid_column": null,
            "grid_gap": null,
            "grid_row": null,
            "grid_template_areas": null,
            "grid_template_columns": null,
            "grid_template_rows": null,
            "height": null,
            "justify_content": null,
            "justify_items": null,
            "left": null,
            "margin": null,
            "max_height": null,
            "max_width": null,
            "min_height": null,
            "min_width": null,
            "object_fit": null,
            "object_position": null,
            "order": null,
            "overflow": null,
            "overflow_x": null,
            "overflow_y": null,
            "padding": null,
            "right": null,
            "top": null,
            "visibility": null,
            "width": null
          }
        },
        "6959cb5a8af24811ac35eab6a216efd4": {
          "model_module": "@jupyter-widgets/controls",
          "model_name": "ProgressStyleModel",
          "model_module_version": "1.5.0",
          "state": {
            "_model_module": "@jupyter-widgets/controls",
            "_model_module_version": "1.5.0",
            "_model_name": "ProgressStyleModel",
            "_view_count": null,
            "_view_module": "@jupyter-widgets/base",
            "_view_module_version": "1.2.0",
            "_view_name": "StyleView",
            "bar_color": null,
            "description_width": ""
          }
        },
        "2486bf3a8bc446b4ad6b908378e3c7a2": {
          "model_module": "@jupyter-widgets/controls",
          "model_name": "VBoxModel",
          "model_module_version": "1.5.0",
          "state": {
            "_dom_classes": [],
            "_model_module": "@jupyter-widgets/controls",
            "_model_module_version": "1.5.0",
            "_model_name": "VBoxModel",
            "_view_count": null,
            "_view_module": "@jupyter-widgets/controls",
            "_view_module_version": "1.5.0",
            "_view_name": "VBoxView",
            "box_style": "",
            "children": [
              "IPY_MODEL_904d7a3cb97d4b58b2c5e6a21ea18a8e",
              "IPY_MODEL_b2752eb4afe243f387116c90f4b73d5b"
            ],
            "layout": "IPY_MODEL_0ceac755da4643c5a4b1bbb4e0bca26d"
          }
        },
        "904d7a3cb97d4b58b2c5e6a21ea18a8e": {
          "model_module": "@jupyter-widgets/controls",
          "model_name": "LabelModel",
          "model_module_version": "1.5.0",
          "state": {
            "_dom_classes": [],
            "_model_module": "@jupyter-widgets/controls",
            "_model_module_version": "1.5.0",
            "_model_name": "LabelModel",
            "_view_count": null,
            "_view_module": "@jupyter-widgets/controls",
            "_view_module_version": "1.5.0",
            "_view_name": "LabelView",
            "description": "",
            "description_tooltip": null,
            "layout": "IPY_MODEL_464b8809f6fd441d9ae994d5e39a8c7e",
            "placeholder": "​",
            "style": "IPY_MODEL_564efc40448b460eb28cb40b8db0f36c",
            "value": "0.008 MB of 0.008 MB uploaded (0.000 MB deduped)\r"
          }
        },
        "b2752eb4afe243f387116c90f4b73d5b": {
          "model_module": "@jupyter-widgets/controls",
          "model_name": "FloatProgressModel",
          "model_module_version": "1.5.0",
          "state": {
            "_dom_classes": [],
            "_model_module": "@jupyter-widgets/controls",
            "_model_module_version": "1.5.0",
            "_model_name": "FloatProgressModel",
            "_view_count": null,
            "_view_module": "@jupyter-widgets/controls",
            "_view_module_version": "1.5.0",
            "_view_name": "ProgressView",
            "bar_style": "",
            "description": "",
            "description_tooltip": null,
            "layout": "IPY_MODEL_2d3977afd691418ca5ad4dd5f6f477e6",
            "max": 1,
            "min": 0,
            "orientation": "horizontal",
            "style": "IPY_MODEL_6e63e608b25045d58aa7a0c18b8ed1d7",
            "value": 1
          }
        },
        "0ceac755da4643c5a4b1bbb4e0bca26d": {
          "model_module": "@jupyter-widgets/base",
          "model_name": "LayoutModel",
          "model_module_version": "1.2.0",
          "state": {
            "_model_module": "@jupyter-widgets/base",
            "_model_module_version": "1.2.0",
            "_model_name": "LayoutModel",
            "_view_count": null,
            "_view_module": "@jupyter-widgets/base",
            "_view_module_version": "1.2.0",
            "_view_name": "LayoutView",
            "align_content": null,
            "align_items": null,
            "align_self": null,
            "border": null,
            "bottom": null,
            "display": null,
            "flex": null,
            "flex_flow": null,
            "grid_area": null,
            "grid_auto_columns": null,
            "grid_auto_flow": null,
            "grid_auto_rows": null,
            "grid_column": null,
            "grid_gap": null,
            "grid_row": null,
            "grid_template_areas": null,
            "grid_template_columns": null,
            "grid_template_rows": null,
            "height": null,
            "justify_content": null,
            "justify_items": null,
            "left": null,
            "margin": null,
            "max_height": null,
            "max_width": null,
            "min_height": null,
            "min_width": null,
            "object_fit": null,
            "object_position": null,
            "order": null,
            "overflow": null,
            "overflow_x": null,
            "overflow_y": null,
            "padding": null,
            "right": null,
            "top": null,
            "visibility": null,
            "width": null
          }
        },
        "464b8809f6fd441d9ae994d5e39a8c7e": {
          "model_module": "@jupyter-widgets/base",
          "model_name": "LayoutModel",
          "model_module_version": "1.2.0",
          "state": {
            "_model_module": "@jupyter-widgets/base",
            "_model_module_version": "1.2.0",
            "_model_name": "LayoutModel",
            "_view_count": null,
            "_view_module": "@jupyter-widgets/base",
            "_view_module_version": "1.2.0",
            "_view_name": "LayoutView",
            "align_content": null,
            "align_items": null,
            "align_self": null,
            "border": null,
            "bottom": null,
            "display": null,
            "flex": null,
            "flex_flow": null,
            "grid_area": null,
            "grid_auto_columns": null,
            "grid_auto_flow": null,
            "grid_auto_rows": null,
            "grid_column": null,
            "grid_gap": null,
            "grid_row": null,
            "grid_template_areas": null,
            "grid_template_columns": null,
            "grid_template_rows": null,
            "height": null,
            "justify_content": null,
            "justify_items": null,
            "left": null,
            "margin": null,
            "max_height": null,
            "max_width": null,
            "min_height": null,
            "min_width": null,
            "object_fit": null,
            "object_position": null,
            "order": null,
            "overflow": null,
            "overflow_x": null,
            "overflow_y": null,
            "padding": null,
            "right": null,
            "top": null,
            "visibility": null,
            "width": null
          }
        },
        "564efc40448b460eb28cb40b8db0f36c": {
          "model_module": "@jupyter-widgets/controls",
          "model_name": "DescriptionStyleModel",
          "model_module_version": "1.5.0",
          "state": {
            "_model_module": "@jupyter-widgets/controls",
            "_model_module_version": "1.5.0",
            "_model_name": "DescriptionStyleModel",
            "_view_count": null,
            "_view_module": "@jupyter-widgets/base",
            "_view_module_version": "1.2.0",
            "_view_name": "StyleView",
            "description_width": ""
          }
        },
        "2d3977afd691418ca5ad4dd5f6f477e6": {
          "model_module": "@jupyter-widgets/base",
          "model_name": "LayoutModel",
          "model_module_version": "1.2.0",
          "state": {
            "_model_module": "@jupyter-widgets/base",
            "_model_module_version": "1.2.0",
            "_model_name": "LayoutModel",
            "_view_count": null,
            "_view_module": "@jupyter-widgets/base",
            "_view_module_version": "1.2.0",
            "_view_name": "LayoutView",
            "align_content": null,
            "align_items": null,
            "align_self": null,
            "border": null,
            "bottom": null,
            "display": null,
            "flex": null,
            "flex_flow": null,
            "grid_area": null,
            "grid_auto_columns": null,
            "grid_auto_flow": null,
            "grid_auto_rows": null,
            "grid_column": null,
            "grid_gap": null,
            "grid_row": null,
            "grid_template_areas": null,
            "grid_template_columns": null,
            "grid_template_rows": null,
            "height": null,
            "justify_content": null,
            "justify_items": null,
            "left": null,
            "margin": null,
            "max_height": null,
            "max_width": null,
            "min_height": null,
            "min_width": null,
            "object_fit": null,
            "object_position": null,
            "order": null,
            "overflow": null,
            "overflow_x": null,
            "overflow_y": null,
            "padding": null,
            "right": null,
            "top": null,
            "visibility": null,
            "width": null
          }
        },
        "6e63e608b25045d58aa7a0c18b8ed1d7": {
          "model_module": "@jupyter-widgets/controls",
          "model_name": "ProgressStyleModel",
          "model_module_version": "1.5.0",
          "state": {
            "_model_module": "@jupyter-widgets/controls",
            "_model_module_version": "1.5.0",
            "_model_name": "ProgressStyleModel",
            "_view_count": null,
            "_view_module": "@jupyter-widgets/base",
            "_view_module_version": "1.2.0",
            "_view_name": "StyleView",
            "bar_color": null,
            "description_width": ""
          }
        },
        "438fd5ba961b4d198b65385932d6b099": {
          "model_module": "@jupyter-widgets/controls",
          "model_name": "VBoxModel",
          "model_module_version": "1.5.0",
          "state": {
            "_dom_classes": [],
            "_model_module": "@jupyter-widgets/controls",
            "_model_module_version": "1.5.0",
            "_model_name": "VBoxModel",
            "_view_count": null,
            "_view_module": "@jupyter-widgets/controls",
            "_view_module_version": "1.5.0",
            "_view_name": "VBoxView",
            "box_style": "",
            "children": [
              "IPY_MODEL_085a93751da141829045268cf0f888bb",
              "IPY_MODEL_a90ea0ceb8d9432bb73678a5955b9665"
            ],
            "layout": "IPY_MODEL_ea95f924777c4af3bd79dd77e02b467f"
          }
        },
        "085a93751da141829045268cf0f888bb": {
          "model_module": "@jupyter-widgets/controls",
          "model_name": "LabelModel",
          "model_module_version": "1.5.0",
          "state": {
            "_dom_classes": [],
            "_model_module": "@jupyter-widgets/controls",
            "_model_module_version": "1.5.0",
            "_model_name": "LabelModel",
            "_view_count": null,
            "_view_module": "@jupyter-widgets/controls",
            "_view_module_version": "1.5.0",
            "_view_name": "LabelView",
            "description": "",
            "description_tooltip": null,
            "layout": "IPY_MODEL_0417dc07f57445d5b8c61965b0a819d0",
            "placeholder": "​",
            "style": "IPY_MODEL_51cfa4a05f43455fa52369127e9232ae",
            "value": "2.060 MB of 2.060 MB uploaded (0.000 MB deduped)\r"
          }
        },
        "a90ea0ceb8d9432bb73678a5955b9665": {
          "model_module": "@jupyter-widgets/controls",
          "model_name": "FloatProgressModel",
          "model_module_version": "1.5.0",
          "state": {
            "_dom_classes": [],
            "_model_module": "@jupyter-widgets/controls",
            "_model_module_version": "1.5.0",
            "_model_name": "FloatProgressModel",
            "_view_count": null,
            "_view_module": "@jupyter-widgets/controls",
            "_view_module_version": "1.5.0",
            "_view_name": "ProgressView",
            "bar_style": "",
            "description": "",
            "description_tooltip": null,
            "layout": "IPY_MODEL_3b7ef31308a64ae780233b9ea7e7aede",
            "max": 1,
            "min": 0,
            "orientation": "horizontal",
            "style": "IPY_MODEL_183ef6b40e9644d590ee07f912d34be9",
            "value": 1
          }
        },
        "ea95f924777c4af3bd79dd77e02b467f": {
          "model_module": "@jupyter-widgets/base",
          "model_name": "LayoutModel",
          "model_module_version": "1.2.0",
          "state": {
            "_model_module": "@jupyter-widgets/base",
            "_model_module_version": "1.2.0",
            "_model_name": "LayoutModel",
            "_view_count": null,
            "_view_module": "@jupyter-widgets/base",
            "_view_module_version": "1.2.0",
            "_view_name": "LayoutView",
            "align_content": null,
            "align_items": null,
            "align_self": null,
            "border": null,
            "bottom": null,
            "display": null,
            "flex": null,
            "flex_flow": null,
            "grid_area": null,
            "grid_auto_columns": null,
            "grid_auto_flow": null,
            "grid_auto_rows": null,
            "grid_column": null,
            "grid_gap": null,
            "grid_row": null,
            "grid_template_areas": null,
            "grid_template_columns": null,
            "grid_template_rows": null,
            "height": null,
            "justify_content": null,
            "justify_items": null,
            "left": null,
            "margin": null,
            "max_height": null,
            "max_width": null,
            "min_height": null,
            "min_width": null,
            "object_fit": null,
            "object_position": null,
            "order": null,
            "overflow": null,
            "overflow_x": null,
            "overflow_y": null,
            "padding": null,
            "right": null,
            "top": null,
            "visibility": null,
            "width": null
          }
        },
        "0417dc07f57445d5b8c61965b0a819d0": {
          "model_module": "@jupyter-widgets/base",
          "model_name": "LayoutModel",
          "model_module_version": "1.2.0",
          "state": {
            "_model_module": "@jupyter-widgets/base",
            "_model_module_version": "1.2.0",
            "_model_name": "LayoutModel",
            "_view_count": null,
            "_view_module": "@jupyter-widgets/base",
            "_view_module_version": "1.2.0",
            "_view_name": "LayoutView",
            "align_content": null,
            "align_items": null,
            "align_self": null,
            "border": null,
            "bottom": null,
            "display": null,
            "flex": null,
            "flex_flow": null,
            "grid_area": null,
            "grid_auto_columns": null,
            "grid_auto_flow": null,
            "grid_auto_rows": null,
            "grid_column": null,
            "grid_gap": null,
            "grid_row": null,
            "grid_template_areas": null,
            "grid_template_columns": null,
            "grid_template_rows": null,
            "height": null,
            "justify_content": null,
            "justify_items": null,
            "left": null,
            "margin": null,
            "max_height": null,
            "max_width": null,
            "min_height": null,
            "min_width": null,
            "object_fit": null,
            "object_position": null,
            "order": null,
            "overflow": null,
            "overflow_x": null,
            "overflow_y": null,
            "padding": null,
            "right": null,
            "top": null,
            "visibility": null,
            "width": null
          }
        },
        "51cfa4a05f43455fa52369127e9232ae": {
          "model_module": "@jupyter-widgets/controls",
          "model_name": "DescriptionStyleModel",
          "model_module_version": "1.5.0",
          "state": {
            "_model_module": "@jupyter-widgets/controls",
            "_model_module_version": "1.5.0",
            "_model_name": "DescriptionStyleModel",
            "_view_count": null,
            "_view_module": "@jupyter-widgets/base",
            "_view_module_version": "1.2.0",
            "_view_name": "StyleView",
            "description_width": ""
          }
        },
        "3b7ef31308a64ae780233b9ea7e7aede": {
          "model_module": "@jupyter-widgets/base",
          "model_name": "LayoutModel",
          "model_module_version": "1.2.0",
          "state": {
            "_model_module": "@jupyter-widgets/base",
            "_model_module_version": "1.2.0",
            "_model_name": "LayoutModel",
            "_view_count": null,
            "_view_module": "@jupyter-widgets/base",
            "_view_module_version": "1.2.0",
            "_view_name": "LayoutView",
            "align_content": null,
            "align_items": null,
            "align_self": null,
            "border": null,
            "bottom": null,
            "display": null,
            "flex": null,
            "flex_flow": null,
            "grid_area": null,
            "grid_auto_columns": null,
            "grid_auto_flow": null,
            "grid_auto_rows": null,
            "grid_column": null,
            "grid_gap": null,
            "grid_row": null,
            "grid_template_areas": null,
            "grid_template_columns": null,
            "grid_template_rows": null,
            "height": null,
            "justify_content": null,
            "justify_items": null,
            "left": null,
            "margin": null,
            "max_height": null,
            "max_width": null,
            "min_height": null,
            "min_width": null,
            "object_fit": null,
            "object_position": null,
            "order": null,
            "overflow": null,
            "overflow_x": null,
            "overflow_y": null,
            "padding": null,
            "right": null,
            "top": null,
            "visibility": null,
            "width": null
          }
        },
        "183ef6b40e9644d590ee07f912d34be9": {
          "model_module": "@jupyter-widgets/controls",
          "model_name": "ProgressStyleModel",
          "model_module_version": "1.5.0",
          "state": {
            "_model_module": "@jupyter-widgets/controls",
            "_model_module_version": "1.5.0",
            "_model_name": "ProgressStyleModel",
            "_view_count": null,
            "_view_module": "@jupyter-widgets/base",
            "_view_module_version": "1.2.0",
            "_view_name": "StyleView",
            "bar_color": null,
            "description_width": ""
          }
        }
      }
    }
  },
  "nbformat": 4,
  "nbformat_minor": 0
}