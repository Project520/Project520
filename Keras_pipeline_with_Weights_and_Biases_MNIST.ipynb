{
  "cells": [
    {
      "cell_type": "markdown",
      "metadata": {
        "id": "7_ie4AoGYM1L"
      },
      "source": [
        "# Weights & Biases using Keras for MNIST Dataset"
      ]
    },
    {
      "cell_type": "code",
      "execution_count": 39,
      "metadata": {
        "id": "uFC4a7GhYM1L",
        "colab": {
          "base_uri": "https://localhost:8080/"
        },
        "outputId": "0a62c8fc-6a59-400c-ab77-b7190732ae7f"
      },
      "outputs": [
        {
          "output_type": "stream",
          "name": "stdout",
          "text": [
            "Requirement already satisfied: python-mnist in /usr/local/lib/python3.7/dist-packages (0.7)\n"
          ]
        }
      ],
      "source": [
        "# For Weights and Biases\n",
        "!pip install -qq wandb\n",
        "# To download the dataset\n",
        "!pip install python-mnist"
      ]
    },
    {
      "cell_type": "code",
      "execution_count": 40,
      "metadata": {
        "colab": {
          "base_uri": "https://localhost:8080/"
        },
        "id": "Q8K1ruUZYM1M",
        "outputId": "ab81a222-86b6-4c0e-d6e9-a0f96f21bbe1"
      },
      "outputs": [
        {
          "output_type": "stream",
          "name": "stdout",
          "text": [
            "TF:  2.8.0\n",
            "W&B:  0.12.16\n"
          ]
        }
      ],
      "source": [
        "## General Dependencies\n",
        "import os\n",
        "import random\n",
        "import numpy as np\n",
        "import pandas as pd\n",
        "import matplotlib.pyplot as plt\n",
        "import matplotlib.cm as cm\n",
        "%matplotlib inline\n",
        "\n",
        "# For Deep Learning\n",
        "import tensorflow as tf\n",
        "print(\"TF: \", tf.__version__)\n",
        "from tensorflow.keras import layers\n",
        "from tensorflow.keras import models\n",
        "\n",
        "# For MLOps\n",
        "import wandb\n",
        "print(\"W&B: \", wandb.__version__)\n",
        "from wandb.keras import WandbCallback\n",
        "\n",
        "# For medMNIST dataset\n",
        "#print(\"medMNIST: \", mnist.__version__)\n",
        "#INFO = \n",
        "# import medmnist\n",
        "# print(\"medMNIST: \", medmnist.__version__)\n",
        "# from medmnist import INFO\n",
        "\n",
        "from keras.datasets import mnist\n",
        "# import mnist\n",
        "# print(\"medMNIST: \", medmnist.__version__)\n",
        "# from mnist import"
      ]
    },
    {
      "cell_type": "code",
      "execution_count": 41,
      "metadata": {
        "colab": {
          "base_uri": "https://localhost:8080/"
        },
        "id": "ofn021wgYM1N",
        "outputId": "8d7a571b-a352-4b69-8663-9f8b67d2ae85"
      },
      "outputs": [
        {
          "output_type": "stream",
          "name": "stderr",
          "text": [
            "\u001b[34m\u001b[1mwandb\u001b[0m: \u001b[33mWARNING\u001b[0m Calling wandb.login() after wandb.init() has no effect.\n"
          ]
        },
        {
          "output_type": "execute_result",
          "data": {
            "text/plain": [
              "True"
            ]
          },
          "metadata": {},
          "execution_count": 41
        }
      ],
      "source": [
        "#Authorizing the users\n",
        "\n",
        "wandb.login()"
      ]
    },
    {
      "cell_type": "code",
      "execution_count": 42,
      "metadata": {
        "id": "bUYTmf6hYM1N"
      },
      "outputs": [],
      "source": [
        "#Config to run the file\n",
        "\n",
        "configs = dict(\n",
        "    data_flag = 'mnist',\n",
        "    image_width = 32,\n",
        "    image_height = 32,\n",
        "    batch_size = 128,\n",
        "    model_name = 'vgg16',\n",
        "    pretrain_weights = 'imagenet',\n",
        "    epochs = 10,\n",
        "    init_learning_rate = 0.005,\n",
        "    lr_decay_rate = 0.1,\n",
        "    optimizer = 'adam',\n",
        "    loss_fn = 'sparse_categorical_crossentropy',\n",
        "    metrics = ['acc'],\n",
        "    earlystopping_patience = 5\n",
        ")"
      ]
    },
    {
      "cell_type": "code",
      "execution_count": 43,
      "metadata": {
        "colab": {
          "base_uri": "https://localhost:8080/"
        },
        "id": "PPZPEsz8YM1O",
        "outputId": "c05d0307-89c6-4a4f-95c9-ef2ad1a1b893"
      },
      "outputs": [
        {
          "output_type": "stream",
          "name": "stdout",
          "text": [
            "{0: 0, 1: 1, 2: 2, 3: 3, 4: 4, 5: 5, 6: 6, 7: 7, 8: 8, 9: 9}\n",
            "1\n",
            "[5 0 4 ... 5 6 8]\n",
            "[7 2 1 ... 4 5 6]\n"
          ]
        }
      ],
      "source": [
        "#info = INFO[configs['data_flag']]\n",
        "configs['class_names'] = {0: 0, 1:1, 2:2, 3:3, 4:4, 5:5, 6:6, 7:7, 8:8, 9:9}\n",
        "#configs['class_names'] = info['label']\n",
        "# configs['image_channels'] = info['n_channels']\n",
        "configs['image_channels'] = 1\n",
        "\n",
        "print(configs['class_names'])\n",
        "print(configs['image_channels'])\n",
        "(train_images, train_labels), (test_images, test_labels) = mnist.load_data()\n",
        "print(train_labels)\n",
        "print(test_labels)\n",
        "#info"
      ]
    },
    {
      "cell_type": "code",
      "execution_count": 44,
      "metadata": {
        "id": "lPHpEMVZYM1O"
      },
      "outputs": [],
      "source": [
        "# Preparing Dataset\n",
        "def download_and_prepare_dataset(data_info: dict):\n",
        "    \"\"\"\n",
        "    Utility function to download the dataset and return train/valid/test images/labels.\n",
        "\n",
        "    Arguments:\n",
        "        data_info (dict): Dataset metadata\n",
        "    \"\"\"\n",
        "    data_path = tf.keras.utils.get_file(origin=data_info['url'], md5_hash=data_info['MD5'])\n",
        "\n",
        "    with np.load(data_path) as data:\n",
        "        # Get images\n",
        "        train_images = data['train_images']\n",
        "        valid_images = data['val_images']\n",
        "        test_images = data['test_images']\n",
        "\n",
        "        # Get labels\n",
        "        train_labels = data['train_labels'].flatten()\n",
        "        valid_labels = data['val_labels'].flatten()\n",
        "        test_labels = data['test_labels'].flatten()\n",
        "\n",
        "    return train_images, train_labels, valid_images, valid_labels, test_images, test_labels"
      ]
    },
    {
      "cell_type": "code",
      "execution_count": 45,
      "metadata": {
        "colab": {
          "base_uri": "https://localhost:8080/"
        },
        "id": "QxRb5XMGYM1P",
        "outputId": "85f01d89-eed7-4429-a7ec-89b65b3233eb"
      },
      "outputs": [
        {
          "output_type": "stream",
          "name": "stdout",
          "text": [
            "Number of train images : 1000 to be logged\n"
          ]
        }
      ],
      "source": [
        "# For demonstration purposes\n",
        "log_full = False #@param {type:\"boolean\"}\n",
        "\n",
        "if log_full:\n",
        "    log_train_samples = len(train_images)\n",
        "else:\n",
        "    log_train_samples = 1000 \n",
        "\n",
        "print(f'Number of train images : {log_train_samples} to be logged')"
      ]
    },
    {
      "cell_type": "code",
      "execution_count": 46,
      "metadata": {
        "colab": {
          "base_uri": "https://localhost:8080/",
          "height": 280,
          "referenced_widgets": [
            "104c2626d2a24ea1b0608283526f8f07",
            "2b3b0834b9a04d43943b8cdec0294a93",
            "705dfa83c09141228116cb6cdc5b5ac1",
            "da6145bb77a14ceca200d885da7fe9cd",
            "fa59c46024774b5fbb2aa0b08f3f6b9a",
            "1b7eb39c29c749ab806fa40fa892174f",
            "dcbfaf4f7bc5435db2ad62a1cee0e317",
            "b2eba7542eb143669c7794500791753f",
            "63abf31dfb1240488eab859b08950f05",
            "0c95727c744b47508dd7ab9889f056de",
            "3decb9ae443c424bbabdf6bccb184dd6",
            "4027b866b53b45a0b546ca7254186f07",
            "dab22bca51394e90bf869051d203db7c",
            "4b56ced31ac84c5a85a5a5b72100d904",
            "5eec80c3f7734d11a6a1855ff1e85bc0",
            "b46e05ae6435478e9841c7fb95fd91cd"
          ]
        },
        "id": "E2BW5Z6sYM1P",
        "outputId": "a298d1aa-7a54-413d-8d50-0e43766832c9"
      },
      "outputs": [
        {
          "output_type": "display_data",
          "data": {
            "text/plain": [
              "<IPython.core.display.HTML object>"
            ],
            "text/html": [
              "Finishing last run (ID:2ki60d2j) before initializing another..."
            ]
          },
          "metadata": {}
        },
        {
          "output_type": "display_data",
          "data": {
            "text/plain": [
              "<IPython.core.display.HTML object>"
            ],
            "text/html": [
              "Waiting for W&B process to finish... <strong style=\"color:green\">(success).</strong>"
            ]
          },
          "metadata": {}
        },
        {
          "output_type": "display_data",
          "data": {
            "text/plain": [
              "VBox(children=(Label(value='0.003 MB of 0.003 MB uploaded (0.000 MB deduped)\\r'), FloatProgress(value=1.0, max…"
            ],
            "application/vnd.jupyter.widget-view+json": {
              "version_major": 2,
              "version_minor": 0,
              "model_id": "104c2626d2a24ea1b0608283526f8f07"
            }
          },
          "metadata": {}
        },
        {
          "output_type": "display_data",
          "data": {
            "text/plain": [
              "<IPython.core.display.HTML object>"
            ],
            "text/html": [
              "Synced <strong style=\"color:#cdcd00\">wandering-field-16</strong>: <a href=\"https://wandb.ai/psingla/uncategorized/runs/2ki60d2j\" target=\"_blank\">https://wandb.ai/psingla/uncategorized/runs/2ki60d2j</a><br/>Synced 5 W&B file(s), 1 media file(s), 1 artifact file(s) and 0 other file(s)"
            ]
          },
          "metadata": {}
        },
        {
          "output_type": "display_data",
          "data": {
            "text/plain": [
              "<IPython.core.display.HTML object>"
            ],
            "text/html": [
              "Find logs at: <code>./wandb/run-20220508_015950-2ki60d2j/logs</code>"
            ]
          },
          "metadata": {}
        },
        {
          "output_type": "display_data",
          "data": {
            "text/plain": [
              "<IPython.core.display.HTML object>"
            ],
            "text/html": [
              "Successfully finished last run (ID:2ki60d2j). Initializing new run:<br/>"
            ]
          },
          "metadata": {}
        },
        {
          "output_type": "display_data",
          "data": {
            "text/plain": [
              "<IPython.core.display.HTML object>"
            ],
            "text/html": [
              "Tracking run with wandb version 0.12.16"
            ]
          },
          "metadata": {}
        },
        {
          "output_type": "display_data",
          "data": {
            "text/plain": [
              "<IPython.core.display.HTML object>"
            ],
            "text/html": [
              "Run data is saved locally in <code>/content/wandb/run-20220508_021527-2oxsqkst</code>"
            ]
          },
          "metadata": {}
        },
        {
          "output_type": "display_data",
          "data": {
            "text/plain": [
              "<IPython.core.display.HTML object>"
            ],
            "text/html": [
              "Syncing run <strong><a href=\"https://wandb.ai/psingla/mnist/runs/2oxsqkst\" target=\"_blank\">crimson-capybara-25</a></strong> to <a href=\"https://wandb.ai/psingla/mnist\" target=\"_blank\">Weights & Biases</a> (<a href=\"https://wandb.me/run\" target=\"_blank\">docs</a>)<br/>"
            ]
          },
          "metadata": {}
        },
        {
          "output_type": "display_data",
          "data": {
            "text/plain": [
              "<IPython.core.display.HTML object>"
            ],
            "text/html": [
              "Waiting for W&B process to finish... <strong style=\"color:green\">(success).</strong>"
            ]
          },
          "metadata": {}
        },
        {
          "output_type": "display_data",
          "data": {
            "text/plain": [
              "VBox(children=(Label(value='0.001 MB of 0.001 MB uploaded (0.000 MB deduped)\\r'), FloatProgress(value=1.0, max…"
            ],
            "application/vnd.jupyter.widget-view+json": {
              "version_major": 2,
              "version_minor": 0,
              "model_id": "63abf31dfb1240488eab859b08950f05"
            }
          },
          "metadata": {}
        },
        {
          "output_type": "display_data",
          "data": {
            "text/plain": [
              "<IPython.core.display.HTML object>"
            ],
            "text/html": [
              "Synced <strong style=\"color:#cdcd00\">crimson-capybara-25</strong>: <a href=\"https://wandb.ai/psingla/mnist/runs/2oxsqkst\" target=\"_blank\">https://wandb.ai/psingla/mnist/runs/2oxsqkst</a><br/>Synced 4 W&B file(s), 0 media file(s), 0 artifact file(s) and 0 other file(s)"
            ]
          },
          "metadata": {}
        },
        {
          "output_type": "display_data",
          "data": {
            "text/plain": [
              "<IPython.core.display.HTML object>"
            ],
            "text/html": [
              "Find logs at: <code>./wandb/run-20220508_021527-2oxsqkst/logs</code>"
            ]
          },
          "metadata": {}
        },
        {
          "output_type": "stream",
          "name": "stdout",
          "text": [
            "CPU times: user 10.2 s, sys: 2.36 s, total: 12.5 s\n",
            "Wall time: 33.9 s\n"
          ]
        }
      ],
      "source": [
        "%%time\n",
        "\n",
        "# Initialize a new W&B run\n",
        "run = wandb.init(project='mnist', group='viz_data')\n",
        "\n",
        "# Intialize a W&B Artifacts\n",
        "ds = wandb.Artifact(\"mnist_dataset\", \"dataset\")\n",
        "\n",
        "# Initialize an empty table\n",
        "train_table = wandb.Table(columns=[], data=[])\n",
        "# Add training data\n",
        "train_table.add_column('image', train_images[:log_train_samples])\n",
        "# Add training label_id\n",
        "train_table.add_column('label_id', train_labels[:log_train_samples])\n",
        "# Add training class names\n",
        "train_table.add_computed_columns(lambda ndx, row:{\n",
        "    \"images\": wandb.Image(row[\"image\"]),\n",
        "    \"class_names\": configs['class_names'][row[\"label_id\"]]\n",
        "    })\n",
        "\n",
        "# Add the table to the Artifact\n",
        "ds['train_data'] = train_table\n",
        "\n",
        "# Let's do the same for the validation data\n",
        "test_table = wandb.Table(columns=[], data=[])\n",
        "test_table.add_column('image', test_images)\n",
        "test_table.add_column('label_id', test_labels)\n",
        "test_table.add_computed_columns(lambda ndx, row:{\n",
        "    \"images\": wandb.Image(row[\"image\"]),\n",
        "    \"class_name\": configs['class_names'][row[\"label_id\"]]\n",
        "    })\n",
        "ds['test_data'] = test_table\n",
        "\n",
        "# Save the dataset as an Artifact\n",
        "ds.save()\n",
        "\n",
        "# Finish the run\n",
        "wandb.finish()"
      ]
    },
    {
      "cell_type": "code",
      "execution_count": 47,
      "metadata": {
        "id": "uQOYCTcpYM1Q"
      },
      "outputs": [],
      "source": [
        "#@title\n",
        "@tf.function\n",
        "def preprocess(image: tf.Tensor, label: tf.Tensor):\n",
        "    \"\"\"\n",
        "    Preprocess the image tensors and parse the labels\n",
        "    \"\"\"\n",
        "    # Preprocess images\n",
        "    image = tf.image.convert_image_dtype(image, tf.float32)\n",
        "    \n",
        "    # Parse label\n",
        "    label = tf.cast(label, tf.float32)\n",
        "    \n",
        "    return image, label\n",
        "\n",
        "\n",
        "def prepare_dataloader(images: np.ndarray,\n",
        "                       labels: np.ndarray,\n",
        "                       loader_type: str='train',\n",
        "                       batch_size: int=128):\n",
        "    \"\"\"\n",
        "    Utility function to prepare dataloader.\n",
        "    \"\"\"\n",
        "    dataset = tf.data.Dataset.from_tensor_slices((images, labels))\n",
        "\n",
        "    if loader_type=='train':\n",
        "        dataset = dataset.shuffle(1024)\n",
        "\n",
        "    dataloader = (\n",
        "        dataset\n",
        "        .map(preprocess, num_parallel_calls=tf.data.AUTOTUNE)\n",
        "        .batch(batch_size)\n",
        "        .prefetch(tf.data.AUTOTUNE)\n",
        "    )\n",
        "\n",
        "    return dataloader"
      ]
    },
    {
      "cell_type": "code",
      "execution_count": 48,
      "metadata": {
        "id": "Q9Uj5eaKYM1Q"
      },
      "outputs": [],
      "source": [
        "trainloader = prepare_dataloader(train_images, train_labels, 'train', configs.get('batch_size', 64))\n",
        "#validloader = prepare_dataloader(valid_images, valid_labels, 'valid', configs.get('batch_size', 64))\n",
        "testloader = prepare_dataloader(test_images, test_labels, 'test', configs.get('batch_size', 64))"
      ]
    },
    {
      "cell_type": "code",
      "execution_count": 49,
      "metadata": {
        "id": "lIhsEFUkYM1R"
      },
      "outputs": [],
      "source": [
        "img_augmentation = models.Sequential(\n",
        "    [\n",
        "        layers.RandomRotation(factor=0.15),\n",
        "        layers.RandomFlip()],\n",
        "    name=\"img_augmentation\",\n",
        ")"
      ]
    },
    {
      "cell_type": "markdown",
      "metadata": {
        "id": "nZMKdK_IYM1R"
      },
      "source": [
        "# Model\n"
      ]
    },
    {
      "cell_type": "code",
      "execution_count": 50,
      "metadata": {
        "id": "l2KHJ0I-YM1R",
        "colab": {
          "base_uri": "https://localhost:8080/"
        },
        "outputId": "9ba1c502-0b98-4fa2-fe63-53f854ca085b"
      },
      "outputs": [
        {
          "output_type": "stream",
          "name": "stdout",
          "text": [
            "Model: \"model\"\n",
            "_________________________________________________________________\n",
            " Layer (type)                Output Shape              Param #   \n",
            "=================================================================\n",
            " input_1 (InputLayer)        [(None, 28, 28, 1)]       0         \n",
            "                                                                 \n",
            " conv2d (Conv2D)             (None, 28, 28, 4)         104       \n",
            "                                                                 \n",
            " conv2d_1 (Conv2D)           (None, 14, 14, 8)         808       \n",
            "                                                                 \n",
            " conv2d_2 (Conv2D)           (None, 7, 7, 12)          1548      \n",
            "                                                                 \n",
            " flatten (Flatten)           (None, 588)               0         \n",
            "                                                                 \n",
            " dense (Dense)               (None, 200)               117800    \n",
            "                                                                 \n",
            " dropout (Dropout)           (None, 200)               0         \n",
            "                                                                 \n",
            " dense_1 (Dense)             (None, 10)                2010      \n",
            "                                                                 \n",
            "=================================================================\n",
            "Total params: 122,270\n",
            "Trainable params: 122,270\n",
            "Non-trainable params: 0\n",
            "_________________________________________________________________\n"
          ]
        }
      ],
      "source": [
        "from tensorflow.keras.layers import Input, Dense, Conv2D, Flatten, Dropout\n",
        "from tensorflow.keras.optimizers import Adam\n",
        "from tensorflow.keras.models import Model\n",
        "\n",
        "def get_model():\n",
        "  \n",
        "    # inputs = layers.Input(input_shape)\n",
        "    # resize_img = layers.Resizing(resize[0], resize[1], interpolation='bilinear')(inputs)\n",
        "    # augment_img = img_augmentation(resize_img)\n",
        "  \n",
        "    # base_model = tf.keras.applications.VGG16(include_top=False, \n",
        "    #                                          weights=configs['pretrain_weights'], \n",
        "    #                                          input_shape=resize)\n",
        "    #                                          #input_tensor=augment_img)\n",
        "    # base_model.trainabe = True\n",
        "\n",
        "    \n",
        "    # x = base_model.output\n",
        "    # x = layers.GlobalAveragePooling2D()(x)\n",
        "    # x = layers.Dropout(dropout_rate)(x)\n",
        "    # outputs = layers.Dense(num_classes, activation=output_activation)(x)\n",
        "\n",
        "    # return models.Model(inputs, outputs)\n",
        "    input = Input(shape=(28, 28, 1))\n",
        "    x = Conv2D(4, (5, 5), strides=1, activation=\"relu\", padding=\"same\")(input)\n",
        "    x = Conv2D(8, (5, 5), strides=2, activation=\"relu\", padding=\"same\")(x)\n",
        "    x = Conv2D(12, (4, 4), strides=2, activation=\"relu\", padding=\"same\")(x)\n",
        "    x = Flatten()(x)\n",
        "    x = Dense(200, activation=\"relu\")(x)\n",
        "    x = Dropout(0.1)(x)\n",
        "    output = Dense(10, activation=\"softmax\")(x)\n",
        "    model = Model(inputs=input, outputs=output)\n",
        "    model.compile(loss=\"categorical_crossentropy\",\n",
        "                  optimizer=Adam(),\n",
        "                  metrics=[\"accuracy\"])\n",
        "    return model\n",
        "\n",
        "tf.keras.backend.clear_session()\n",
        "model = get_model()\n",
        "model.summary()"
      ]
    },
    {
      "cell_type": "code",
      "execution_count": 51,
      "metadata": {
        "id": "TUCbNDAQYM1S"
      },
      "outputs": [],
      "source": [
        "earlystopper = tf.keras.callbacks.EarlyStopping(\n",
        "    monitor='val_loss', patience=configs['earlystopping_patience'], verbose=0, mode='auto',\n",
        "    restore_best_weights=True\n",
        ")"
      ]
    },
    {
      "cell_type": "code",
      "execution_count": 52,
      "metadata": {
        "id": "LeIo4FmNYM1S"
      },
      "outputs": [],
      "source": [
        "def lr_scheduler(epoch, lr):\n",
        "    # log the current learning rate onto W&B\n",
        "    if wandb.run is None:\n",
        "        raise wandb.Error(\"You must call wandb.init() before WandbCallback()\")\n",
        "\n",
        "    wandb.log({'learning_rate': lr}, commit=False)\n",
        "    \n",
        "    if epoch < 7:\n",
        "        return lr\n",
        "    else:\n",
        "        return lr * tf.math.exp(-configs['lr_decay_rate'])\n",
        "\n",
        "lr_callback = tf.keras.callbacks.LearningRateScheduler(lr_scheduler)"
      ]
    },
    {
      "cell_type": "code",
      "execution_count": 53,
      "metadata": {
        "id": "GTRPtz2sYM1S"
      },
      "outputs": [],
      "source": [
        "def train(config: dict, \n",
        "          callbacks: list,\n",
        "          verbose: int=0):\n",
        "    \"\"\"\n",
        "    Utility function to train the model.\n",
        "\n",
        "    Arguments:\n",
        "        config (dict): Dictionary of hyperparameters.\n",
        "        callbacks (list): List of callbacks passed to `model.fit`.\n",
        "        verbose (int): 0 for silent and 1 for progress bar.\n",
        "    \"\"\"\n",
        "\n",
        "    # Initalize model\n",
        "    tf.keras.backend.clear_session()\n",
        "    #resize=(config.image_width, config.image_height, config.image_channels)\n",
        "    model = get_model()\n",
        "\n",
        "    # Compile the model\n",
        "    opt = tf.keras.optimizers.Adam(learning_rate=config.init_learning_rate)\n",
        "    model.compile(opt,\n",
        "                  config.loss_fn,\n",
        "                  metrics=config.metrics)\n",
        "\n",
        "    # Train the model\n",
        "    _ = model.fit(trainloader,\n",
        "                  epochs=config.epochs,\n",
        "                  validation_data=testloader,\n",
        "                  callbacks=callbacks,\n",
        "                  verbose=verbose)\n",
        "\n",
        "    return model"
      ]
    },
    {
      "cell_type": "code",
      "execution_count": 54,
      "metadata": {
        "id": "0gvoDbpfYM1S",
        "colab": {
          "base_uri": "https://localhost:8080/",
          "height": 824,
          "referenced_widgets": [
            "fe765adc58c94a7a845dadaeb00d093a",
            "0487a23ecd2e4865b682c713f2433353",
            "475731b8704049148a7fa69409e4e88b",
            "ae7ba97d96854868afcd12045571a9b5",
            "63ed10ecf8aa4cf2a106df27df566536",
            "56e52fdeac714adfbeba1f071d85a7ac",
            "2464382dac67426786244d8ee42fae94",
            "5a90cf4d0aa64278b776365f4d2fcdd5"
          ]
        },
        "outputId": "31b5e0c2-80fc-477f-d351-dd3db9828805"
      },
      "outputs": [
        {
          "output_type": "display_data",
          "data": {
            "text/plain": [
              "<IPython.core.display.HTML object>"
            ],
            "text/html": [
              "Tracking run with wandb version 0.12.16"
            ]
          },
          "metadata": {}
        },
        {
          "output_type": "display_data",
          "data": {
            "text/plain": [
              "<IPython.core.display.HTML object>"
            ],
            "text/html": [
              "Run data is saved locally in <code>/content/wandb/run-20220508_021601-2w8eh5x3</code>"
            ]
          },
          "metadata": {}
        },
        {
          "output_type": "display_data",
          "data": {
            "text/plain": [
              "<IPython.core.display.HTML object>"
            ],
            "text/html": [
              "Syncing run <strong><a href=\"https://wandb.ai/psingla/mnist/runs/2w8eh5x3\" target=\"_blank\">crimson-wind-26</a></strong> to <a href=\"https://wandb.ai/psingla/mnist\" target=\"_blank\">Weights & Biases</a> (<a href=\"https://wandb.me/run\" target=\"_blank\">docs</a>)<br/>"
            ]
          },
          "metadata": {}
        },
        {
          "output_type": "stream",
          "name": "stdout",
          "text": [
            "Epoch 1/10\n",
            "469/469 [==============================] - 53s 112ms/step - loss: 0.1893 - acc: 0.9415 - val_loss: 0.0649 - val_acc: 0.9779 - _timestamp: 1651976220.0000 - _runtime: 59.0000 - lr: 0.0050\n",
            "Epoch 2/10\n",
            "469/469 [==============================] - 52s 111ms/step - loss: 0.0649 - acc: 0.9803 - val_loss: 0.0657 - val_acc: 0.9782 - _timestamp: 1651976301.0000 - _runtime: 140.0000 - lr: 0.0050\n",
            "Epoch 3/10\n",
            "469/469 [==============================] - 50s 107ms/step - loss: 0.0491 - acc: 0.9845 - val_loss: 0.0538 - val_acc: 0.9815 - _timestamp: 1651976382.0000 - _runtime: 221.0000 - lr: 0.0050\n",
            "Epoch 4/10\n",
            "469/469 [==============================] - 50s 107ms/step - loss: 0.0419 - acc: 0.9865 - val_loss: 0.0526 - val_acc: 0.9827 - _timestamp: 1651976463.0000 - _runtime: 302.0000 - lr: 0.0050\n",
            "Epoch 5/10\n",
            "469/469 [==============================] - 51s 109ms/step - loss: 0.0359 - acc: 0.9888 - val_loss: 0.0466 - val_acc: 0.9857 - _timestamp: 1651976546.0000 - _runtime: 385.0000 - lr: 0.0050\n",
            "Epoch 6/10\n",
            "469/469 [==============================] - 50s 106ms/step - loss: 0.0328 - acc: 0.9891 - val_loss: 0.0545 - val_acc: 0.9840 - _timestamp: 1651976627.0000 - _runtime: 466.0000 - lr: 0.0050\n",
            "Epoch 7/10\n",
            "469/469 [==============================] - 51s 108ms/step - loss: 0.0313 - acc: 0.9904 - val_loss: 0.0859 - val_acc: 0.9793 - _timestamp: 1651976709.0000 - _runtime: 548.0000 - lr: 0.0050\n",
            "Epoch 8/10\n",
            "469/469 [==============================] - 50s 107ms/step - loss: 0.0239 - acc: 0.9922 - val_loss: 0.0802 - val_acc: 0.9805 - _timestamp: 1651976760.0000 - _runtime: 599.0000 - lr: 0.0045\n",
            "Epoch 9/10\n",
            "469/469 [==============================] - 50s 106ms/step - loss: 0.0206 - acc: 0.9933 - val_loss: 0.0492 - val_acc: 0.9866 - _timestamp: 1651976841.0000 - _runtime: 680.0000 - lr: 0.0041\n",
            "Epoch 10/10\n",
            "469/469 [==============================] - 50s 107ms/step - loss: 0.0136 - acc: 0.9955 - val_loss: 0.0545 - val_acc: 0.9859 - _timestamp: 1651976923.0000 - _runtime: 762.0000 - lr: 0.0037\n",
            "79/79 [==============================] - 3s 41ms/step - loss: 0.0466 - acc: 0.9857\n"
          ]
        },
        {
          "output_type": "display_data",
          "data": {
            "text/plain": [
              "<IPython.core.display.HTML object>"
            ],
            "text/html": [
              "Waiting for W&B process to finish... <strong style=\"color:green\">(success).</strong>"
            ]
          },
          "metadata": {}
        },
        {
          "output_type": "display_data",
          "data": {
            "text/plain": [
              "VBox(children=(Label(value='2.029 MB of 2.029 MB uploaded (0.000 MB deduped)\\r'), FloatProgress(value=1.0, max…"
            ],
            "application/vnd.jupyter.widget-view+json": {
              "version_major": 2,
              "version_minor": 0,
              "model_id": "fe765adc58c94a7a845dadaeb00d093a"
            }
          },
          "metadata": {}
        },
        {
          "output_type": "display_data",
          "data": {
            "text/plain": [
              "<IPython.core.display.HTML object>"
            ],
            "text/html": [
              "<style>\n",
              "    table.wandb td:nth-child(1) { padding: 0 10px; text-align: left ; width: auto;} td:nth-child(2) {text-align: left ; width: 100%}\n",
              "    .wandb-row { display: flex; flex-direction: row; flex-wrap: wrap; justify-content: flex-start; width: 100% }\n",
              "    .wandb-col { display: flex; flex-direction: column; flex-basis: 100%; flex: 1; padding: 10px; }\n",
              "    </style>\n",
              "<div class=\"wandb-row\"><div class=\"wandb-col\"><h3>Run history:</h3><br/><table class=\"wandb\"><tr><td>acc</td><td>▁▆▇▇▇▇▇███</td></tr><tr><td>epoch</td><td>▁▂▃▃▄▅▆▆▇█</td></tr><tr><td>evaluate/accuracy</td><td>▁</td></tr><tr><td>learning_rate</td><td>████████▄▁</td></tr><tr><td>loss</td><td>█▃▂▂▂▂▂▁▁▁</td></tr><tr><td>val_acc</td><td>▁▁▄▅▇▆▂▃█▇</td></tr><tr><td>val_loss</td><td>▄▄▂▂▁▂█▇▁▂</td></tr></table><br/></div><div class=\"wandb-col\"><h3>Run summary:</h3><br/><table class=\"wandb\"><tr><td>acc</td><td>0.99555</td></tr><tr><td>best_epoch</td><td>4</td></tr><tr><td>best_val_loss</td><td>0.04664</td></tr><tr><td>epoch</td><td>9</td></tr><tr><td>evaluate/accuracy</td><td>0.9857</td></tr><tr><td>learning_rate</td><td>0.00409</td></tr><tr><td>loss</td><td>0.01356</td></tr><tr><td>val_acc</td><td>0.9859</td></tr><tr><td>val_loss</td><td>0.0545</td></tr></table><br/></div></div>"
            ]
          },
          "metadata": {}
        },
        {
          "output_type": "display_data",
          "data": {
            "text/plain": [
              "<IPython.core.display.HTML object>"
            ],
            "text/html": [
              "Synced <strong style=\"color:#cdcd00\">crimson-wind-26</strong>: <a href=\"https://wandb.ai/psingla/mnist/runs/2w8eh5x3\" target=\"_blank\">https://wandb.ai/psingla/mnist/runs/2w8eh5x3</a><br/>Synced 5 W&B file(s), 2 media file(s), 1 artifact file(s) and 1 other file(s)"
            ]
          },
          "metadata": {}
        },
        {
          "output_type": "display_data",
          "data": {
            "text/plain": [
              "<IPython.core.display.HTML object>"
            ],
            "text/html": [
              "Find logs at: <code>./wandb/run-20220508_021601-2w8eh5x3/logs</code>"
            ]
          },
          "metadata": {}
        }
      ],
      "source": [
        "# Initialize the W&B run\n",
        "run = wandb.init(project='mnist', config=configs, job_type='train')\n",
        "config = wandb.config\n",
        "\n",
        "# Define WandbCallback for experiment tracking\n",
        "wandb_callback = WandbCallback(monitor='val_loss',\n",
        "                               log_weights=True,\n",
        "                               log_evaluation=True,\n",
        "                               validation_steps=5)\n",
        "\n",
        "# callbacks\n",
        "callbacks = [earlystopper, wandb_callback, lr_callback]\n",
        "\n",
        "# Train\n",
        "model = train(config, callbacks=callbacks, verbose=1)\n",
        "\n",
        "# Evaluate the trained model\n",
        "loss, acc = model.evaluate(testloader)\n",
        "wandb.log({'evaluate/accuracy': acc})\n",
        "\n",
        "# Close the W&B run.\n",
        "wandb.finish()"
      ]
    },
    {
      "cell_type": "code",
      "source": [
        "wandb.init()\n",
        "predictions = model(test_images)\n",
        "ground_truth = test_labels\n",
        "wandb.log({\"roc\" : wandb.plot.roc_curve( ground_truth, predictions,\n",
        "                        labels=[0,1,2,3,4,5,6,7,8,9], classes_to_plot=None)})"
      ],
      "metadata": {
        "colab": {
          "base_uri": "https://localhost:8080/",
          "height": 69
        },
        "id": "CV7PRdDZ0h91",
        "outputId": "30ab6cc1-79c2-4827-ec79-8816cb1f6033"
      },
      "execution_count": 55,
      "outputs": [
        {
          "output_type": "display_data",
          "data": {
            "text/plain": [
              "<IPython.core.display.HTML object>"
            ],
            "text/html": [
              "Tracking run with wandb version 0.12.16"
            ]
          },
          "metadata": {}
        },
        {
          "output_type": "display_data",
          "data": {
            "text/plain": [
              "<IPython.core.display.HTML object>"
            ],
            "text/html": [
              "Run data is saved locally in <code>/content/wandb/run-20220508_022925-th5gpa0t</code>"
            ]
          },
          "metadata": {}
        },
        {
          "output_type": "display_data",
          "data": {
            "text/plain": [
              "<IPython.core.display.HTML object>"
            ],
            "text/html": [
              "Syncing run <strong><a href=\"https://wandb.ai/psingla/uncategorized/runs/th5gpa0t\" target=\"_blank\">scarlet-hill-17</a></strong> to <a href=\"https://wandb.ai/psingla/uncategorized\" target=\"_blank\">Weights & Biases</a> (<a href=\"https://wandb.me/run\" target=\"_blank\">docs</a>)<br/>"
            ]
          },
          "metadata": {}
        }
      ]
    }
  ],
  "metadata": {
    "colab": {
      "toc_visible": true,
      "name": "Keras_pipeline_with_Weights_and_Biases-MNIST.ipynb",
      "provenance": [],
      "collapsed_sections": []
    },
    "kernelspec": {
      "display_name": "Python 3 (ipykernel)",
      "language": "python",
      "name": "python3"
    },
    "widgets": {
      "application/vnd.jupyter.widget-state+json": {
        "104c2626d2a24ea1b0608283526f8f07": {
          "model_module": "@jupyter-widgets/controls",
          "model_name": "VBoxModel",
          "model_module_version": "1.5.0",
          "state": {
            "_dom_classes": [],
            "_model_module": "@jupyter-widgets/controls",
            "_model_module_version": "1.5.0",
            "_model_name": "VBoxModel",
            "_view_count": null,
            "_view_module": "@jupyter-widgets/controls",
            "_view_module_version": "1.5.0",
            "_view_name": "VBoxView",
            "box_style": "",
            "children": [
              "IPY_MODEL_2b3b0834b9a04d43943b8cdec0294a93",
              "IPY_MODEL_705dfa83c09141228116cb6cdc5b5ac1"
            ],
            "layout": "IPY_MODEL_da6145bb77a14ceca200d885da7fe9cd"
          }
        },
        "2b3b0834b9a04d43943b8cdec0294a93": {
          "model_module": "@jupyter-widgets/controls",
          "model_name": "LabelModel",
          "model_module_version": "1.5.0",
          "state": {
            "_dom_classes": [],
            "_model_module": "@jupyter-widgets/controls",
            "_model_module_version": "1.5.0",
            "_model_name": "LabelModel",
            "_view_count": null,
            "_view_module": "@jupyter-widgets/controls",
            "_view_module_version": "1.5.0",
            "_view_name": "LabelView",
            "description": "",
            "description_tooltip": null,
            "layout": "IPY_MODEL_fa59c46024774b5fbb2aa0b08f3f6b9a",
            "placeholder": "​",
            "style": "IPY_MODEL_1b7eb39c29c749ab806fa40fa892174f",
            "value": "0.012 MB of 0.012 MB uploaded (0.000 MB deduped)\r"
          }
        },
        "705dfa83c09141228116cb6cdc5b5ac1": {
          "model_module": "@jupyter-widgets/controls",
          "model_name": "FloatProgressModel",
          "model_module_version": "1.5.0",
          "state": {
            "_dom_classes": [],
            "_model_module": "@jupyter-widgets/controls",
            "_model_module_version": "1.5.0",
            "_model_name": "FloatProgressModel",
            "_view_count": null,
            "_view_module": "@jupyter-widgets/controls",
            "_view_module_version": "1.5.0",
            "_view_name": "ProgressView",
            "bar_style": "",
            "description": "",
            "description_tooltip": null,
            "layout": "IPY_MODEL_dcbfaf4f7bc5435db2ad62a1cee0e317",
            "max": 1,
            "min": 0,
            "orientation": "horizontal",
            "style": "IPY_MODEL_b2eba7542eb143669c7794500791753f",
            "value": 1
          }
        },
        "da6145bb77a14ceca200d885da7fe9cd": {
          "model_module": "@jupyter-widgets/base",
          "model_name": "LayoutModel",
          "model_module_version": "1.2.0",
          "state": {
            "_model_module": "@jupyter-widgets/base",
            "_model_module_version": "1.2.0",
            "_model_name": "LayoutModel",
            "_view_count": null,
            "_view_module": "@jupyter-widgets/base",
            "_view_module_version": "1.2.0",
            "_view_name": "LayoutView",
            "align_content": null,
            "align_items": null,
            "align_self": null,
            "border": null,
            "bottom": null,
            "display": null,
            "flex": null,
            "flex_flow": null,
            "grid_area": null,
            "grid_auto_columns": null,
            "grid_auto_flow": null,
            "grid_auto_rows": null,
            "grid_column": null,
            "grid_gap": null,
            "grid_row": null,
            "grid_template_areas": null,
            "grid_template_columns": null,
            "grid_template_rows": null,
            "height": null,
            "justify_content": null,
            "justify_items": null,
            "left": null,
            "margin": null,
            "max_height": null,
            "max_width": null,
            "min_height": null,
            "min_width": null,
            "object_fit": null,
            "object_position": null,
            "order": null,
            "overflow": null,
            "overflow_x": null,
            "overflow_y": null,
            "padding": null,
            "right": null,
            "top": null,
            "visibility": null,
            "width": null
          }
        },
        "fa59c46024774b5fbb2aa0b08f3f6b9a": {
          "model_module": "@jupyter-widgets/base",
          "model_name": "LayoutModel",
          "model_module_version": "1.2.0",
          "state": {
            "_model_module": "@jupyter-widgets/base",
            "_model_module_version": "1.2.0",
            "_model_name": "LayoutModel",
            "_view_count": null,
            "_view_module": "@jupyter-widgets/base",
            "_view_module_version": "1.2.0",
            "_view_name": "LayoutView",
            "align_content": null,
            "align_items": null,
            "align_self": null,
            "border": null,
            "bottom": null,
            "display": null,
            "flex": null,
            "flex_flow": null,
            "grid_area": null,
            "grid_auto_columns": null,
            "grid_auto_flow": null,
            "grid_auto_rows": null,
            "grid_column": null,
            "grid_gap": null,
            "grid_row": null,
            "grid_template_areas": null,
            "grid_template_columns": null,
            "grid_template_rows": null,
            "height": null,
            "justify_content": null,
            "justify_items": null,
            "left": null,
            "margin": null,
            "max_height": null,
            "max_width": null,
            "min_height": null,
            "min_width": null,
            "object_fit": null,
            "object_position": null,
            "order": null,
            "overflow": null,
            "overflow_x": null,
            "overflow_y": null,
            "padding": null,
            "right": null,
            "top": null,
            "visibility": null,
            "width": null
          }
        },
        "1b7eb39c29c749ab806fa40fa892174f": {
          "model_module": "@jupyter-widgets/controls",
          "model_name": "DescriptionStyleModel",
          "model_module_version": "1.5.0",
          "state": {
            "_model_module": "@jupyter-widgets/controls",
            "_model_module_version": "1.5.0",
            "_model_name": "DescriptionStyleModel",
            "_view_count": null,
            "_view_module": "@jupyter-widgets/base",
            "_view_module_version": "1.2.0",
            "_view_name": "StyleView",
            "description_width": ""
          }
        },
        "dcbfaf4f7bc5435db2ad62a1cee0e317": {
          "model_module": "@jupyter-widgets/base",
          "model_name": "LayoutModel",
          "model_module_version": "1.2.0",
          "state": {
            "_model_module": "@jupyter-widgets/base",
            "_model_module_version": "1.2.0",
            "_model_name": "LayoutModel",
            "_view_count": null,
            "_view_module": "@jupyter-widgets/base",
            "_view_module_version": "1.2.0",
            "_view_name": "LayoutView",
            "align_content": null,
            "align_items": null,
            "align_self": null,
            "border": null,
            "bottom": null,
            "display": null,
            "flex": null,
            "flex_flow": null,
            "grid_area": null,
            "grid_auto_columns": null,
            "grid_auto_flow": null,
            "grid_auto_rows": null,
            "grid_column": null,
            "grid_gap": null,
            "grid_row": null,
            "grid_template_areas": null,
            "grid_template_columns": null,
            "grid_template_rows": null,
            "height": null,
            "justify_content": null,
            "justify_items": null,
            "left": null,
            "margin": null,
            "max_height": null,
            "max_width": null,
            "min_height": null,
            "min_width": null,
            "object_fit": null,
            "object_position": null,
            "order": null,
            "overflow": null,
            "overflow_x": null,
            "overflow_y": null,
            "padding": null,
            "right": null,
            "top": null,
            "visibility": null,
            "width": null
          }
        },
        "b2eba7542eb143669c7794500791753f": {
          "model_module": "@jupyter-widgets/controls",
          "model_name": "ProgressStyleModel",
          "model_module_version": "1.5.0",
          "state": {
            "_model_module": "@jupyter-widgets/controls",
            "_model_module_version": "1.5.0",
            "_model_name": "ProgressStyleModel",
            "_view_count": null,
            "_view_module": "@jupyter-widgets/base",
            "_view_module_version": "1.2.0",
            "_view_name": "StyleView",
            "bar_color": null,
            "description_width": ""
          }
        },
        "63abf31dfb1240488eab859b08950f05": {
          "model_module": "@jupyter-widgets/controls",
          "model_name": "VBoxModel",
          "model_module_version": "1.5.0",
          "state": {
            "_dom_classes": [],
            "_model_module": "@jupyter-widgets/controls",
            "_model_module_version": "1.5.0",
            "_model_name": "VBoxModel",
            "_view_count": null,
            "_view_module": "@jupyter-widgets/controls",
            "_view_module_version": "1.5.0",
            "_view_name": "VBoxView",
            "box_style": "",
            "children": [
              "IPY_MODEL_0c95727c744b47508dd7ab9889f056de",
              "IPY_MODEL_3decb9ae443c424bbabdf6bccb184dd6"
            ],
            "layout": "IPY_MODEL_4027b866b53b45a0b546ca7254186f07"
          }
        },
        "0c95727c744b47508dd7ab9889f056de": {
          "model_module": "@jupyter-widgets/controls",
          "model_name": "LabelModel",
          "model_module_version": "1.5.0",
          "state": {
            "_dom_classes": [],
            "_model_module": "@jupyter-widgets/controls",
            "_model_module_version": "1.5.0",
            "_model_name": "LabelModel",
            "_view_count": null,
            "_view_module": "@jupyter-widgets/controls",
            "_view_module_version": "1.5.0",
            "_view_name": "LabelView",
            "description": "",
            "description_tooltip": null,
            "layout": "IPY_MODEL_dab22bca51394e90bf869051d203db7c",
            "placeholder": "​",
            "style": "IPY_MODEL_4b56ced31ac84c5a85a5a5b72100d904",
            "value": "0.008 MB of 0.008 MB uploaded (0.000 MB deduped)\r"
          }
        },
        "3decb9ae443c424bbabdf6bccb184dd6": {
          "model_module": "@jupyter-widgets/controls",
          "model_name": "FloatProgressModel",
          "model_module_version": "1.5.0",
          "state": {
            "_dom_classes": [],
            "_model_module": "@jupyter-widgets/controls",
            "_model_module_version": "1.5.0",
            "_model_name": "FloatProgressModel",
            "_view_count": null,
            "_view_module": "@jupyter-widgets/controls",
            "_view_module_version": "1.5.0",
            "_view_name": "ProgressView",
            "bar_style": "",
            "description": "",
            "description_tooltip": null,
            "layout": "IPY_MODEL_5eec80c3f7734d11a6a1855ff1e85bc0",
            "max": 1,
            "min": 0,
            "orientation": "horizontal",
            "style": "IPY_MODEL_b46e05ae6435478e9841c7fb95fd91cd",
            "value": 1
          }
        },
        "4027b866b53b45a0b546ca7254186f07": {
          "model_module": "@jupyter-widgets/base",
          "model_name": "LayoutModel",
          "model_module_version": "1.2.0",
          "state": {
            "_model_module": "@jupyter-widgets/base",
            "_model_module_version": "1.2.0",
            "_model_name": "LayoutModel",
            "_view_count": null,
            "_view_module": "@jupyter-widgets/base",
            "_view_module_version": "1.2.0",
            "_view_name": "LayoutView",
            "align_content": null,
            "align_items": null,
            "align_self": null,
            "border": null,
            "bottom": null,
            "display": null,
            "flex": null,
            "flex_flow": null,
            "grid_area": null,
            "grid_auto_columns": null,
            "grid_auto_flow": null,
            "grid_auto_rows": null,
            "grid_column": null,
            "grid_gap": null,
            "grid_row": null,
            "grid_template_areas": null,
            "grid_template_columns": null,
            "grid_template_rows": null,
            "height": null,
            "justify_content": null,
            "justify_items": null,
            "left": null,
            "margin": null,
            "max_height": null,
            "max_width": null,
            "min_height": null,
            "min_width": null,
            "object_fit": null,
            "object_position": null,
            "order": null,
            "overflow": null,
            "overflow_x": null,
            "overflow_y": null,
            "padding": null,
            "right": null,
            "top": null,
            "visibility": null,
            "width": null
          }
        },
        "dab22bca51394e90bf869051d203db7c": {
          "model_module": "@jupyter-widgets/base",
          "model_name": "LayoutModel",
          "model_module_version": "1.2.0",
          "state": {
            "_model_module": "@jupyter-widgets/base",
            "_model_module_version": "1.2.0",
            "_model_name": "LayoutModel",
            "_view_count": null,
            "_view_module": "@jupyter-widgets/base",
            "_view_module_version": "1.2.0",
            "_view_name": "LayoutView",
            "align_content": null,
            "align_items": null,
            "align_self": null,
            "border": null,
            "bottom": null,
            "display": null,
            "flex": null,
            "flex_flow": null,
            "grid_area": null,
            "grid_auto_columns": null,
            "grid_auto_flow": null,
            "grid_auto_rows": null,
            "grid_column": null,
            "grid_gap": null,
            "grid_row": null,
            "grid_template_areas": null,
            "grid_template_columns": null,
            "grid_template_rows": null,
            "height": null,
            "justify_content": null,
            "justify_items": null,
            "left": null,
            "margin": null,
            "max_height": null,
            "max_width": null,
            "min_height": null,
            "min_width": null,
            "object_fit": null,
            "object_position": null,
            "order": null,
            "overflow": null,
            "overflow_x": null,
            "overflow_y": null,
            "padding": null,
            "right": null,
            "top": null,
            "visibility": null,
            "width": null
          }
        },
        "4b56ced31ac84c5a85a5a5b72100d904": {
          "model_module": "@jupyter-widgets/controls",
          "model_name": "DescriptionStyleModel",
          "model_module_version": "1.5.0",
          "state": {
            "_model_module": "@jupyter-widgets/controls",
            "_model_module_version": "1.5.0",
            "_model_name": "DescriptionStyleModel",
            "_view_count": null,
            "_view_module": "@jupyter-widgets/base",
            "_view_module_version": "1.2.0",
            "_view_name": "StyleView",
            "description_width": ""
          }
        },
        "5eec80c3f7734d11a6a1855ff1e85bc0": {
          "model_module": "@jupyter-widgets/base",
          "model_name": "LayoutModel",
          "model_module_version": "1.2.0",
          "state": {
            "_model_module": "@jupyter-widgets/base",
            "_model_module_version": "1.2.0",
            "_model_name": "LayoutModel",
            "_view_count": null,
            "_view_module": "@jupyter-widgets/base",
            "_view_module_version": "1.2.0",
            "_view_name": "LayoutView",
            "align_content": null,
            "align_items": null,
            "align_self": null,
            "border": null,
            "bottom": null,
            "display": null,
            "flex": null,
            "flex_flow": null,
            "grid_area": null,
            "grid_auto_columns": null,
            "grid_auto_flow": null,
            "grid_auto_rows": null,
            "grid_column": null,
            "grid_gap": null,
            "grid_row": null,
            "grid_template_areas": null,
            "grid_template_columns": null,
            "grid_template_rows": null,
            "height": null,
            "justify_content": null,
            "justify_items": null,
            "left": null,
            "margin": null,
            "max_height": null,
            "max_width": null,
            "min_height": null,
            "min_width": null,
            "object_fit": null,
            "object_position": null,
            "order": null,
            "overflow": null,
            "overflow_x": null,
            "overflow_y": null,
            "padding": null,
            "right": null,
            "top": null,
            "visibility": null,
            "width": null
          }
        },
        "b46e05ae6435478e9841c7fb95fd91cd": {
          "model_module": "@jupyter-widgets/controls",
          "model_name": "ProgressStyleModel",
          "model_module_version": "1.5.0",
          "state": {
            "_model_module": "@jupyter-widgets/controls",
            "_model_module_version": "1.5.0",
            "_model_name": "ProgressStyleModel",
            "_view_count": null,
            "_view_module": "@jupyter-widgets/base",
            "_view_module_version": "1.2.0",
            "_view_name": "StyleView",
            "bar_color": null,
            "description_width": ""
          }
        },
        "fe765adc58c94a7a845dadaeb00d093a": {
          "model_module": "@jupyter-widgets/controls",
          "model_name": "VBoxModel",
          "model_module_version": "1.5.0",
          "state": {
            "_dom_classes": [],
            "_model_module": "@jupyter-widgets/controls",
            "_model_module_version": "1.5.0",
            "_model_name": "VBoxModel",
            "_view_count": null,
            "_view_module": "@jupyter-widgets/controls",
            "_view_module_version": "1.5.0",
            "_view_name": "VBoxView",
            "box_style": "",
            "children": [
              "IPY_MODEL_0487a23ecd2e4865b682c713f2433353",
              "IPY_MODEL_475731b8704049148a7fa69409e4e88b"
            ],
            "layout": "IPY_MODEL_ae7ba97d96854868afcd12045571a9b5"
          }
        },
        "0487a23ecd2e4865b682c713f2433353": {
          "model_module": "@jupyter-widgets/controls",
          "model_name": "LabelModel",
          "model_module_version": "1.5.0",
          "state": {
            "_dom_classes": [],
            "_model_module": "@jupyter-widgets/controls",
            "_model_module_version": "1.5.0",
            "_model_name": "LabelModel",
            "_view_count": null,
            "_view_module": "@jupyter-widgets/controls",
            "_view_module_version": "1.5.0",
            "_view_name": "LabelView",
            "description": "",
            "description_tooltip": null,
            "layout": "IPY_MODEL_63ed10ecf8aa4cf2a106df27df566536",
            "placeholder": "​",
            "style": "IPY_MODEL_56e52fdeac714adfbeba1f071d85a7ac",
            "value": "2.056 MB of 2.056 MB uploaded (0.000 MB deduped)\r"
          }
        },
        "475731b8704049148a7fa69409e4e88b": {
          "model_module": "@jupyter-widgets/controls",
          "model_name": "FloatProgressModel",
          "model_module_version": "1.5.0",
          "state": {
            "_dom_classes": [],
            "_model_module": "@jupyter-widgets/controls",
            "_model_module_version": "1.5.0",
            "_model_name": "FloatProgressModel",
            "_view_count": null,
            "_view_module": "@jupyter-widgets/controls",
            "_view_module_version": "1.5.0",
            "_view_name": "ProgressView",
            "bar_style": "",
            "description": "",
            "description_tooltip": null,
            "layout": "IPY_MODEL_2464382dac67426786244d8ee42fae94",
            "max": 1,
            "min": 0,
            "orientation": "horizontal",
            "style": "IPY_MODEL_5a90cf4d0aa64278b776365f4d2fcdd5",
            "value": 1
          }
        },
        "ae7ba97d96854868afcd12045571a9b5": {
          "model_module": "@jupyter-widgets/base",
          "model_name": "LayoutModel",
          "model_module_version": "1.2.0",
          "state": {
            "_model_module": "@jupyter-widgets/base",
            "_model_module_version": "1.2.0",
            "_model_name": "LayoutModel",
            "_view_count": null,
            "_view_module": "@jupyter-widgets/base",
            "_view_module_version": "1.2.0",
            "_view_name": "LayoutView",
            "align_content": null,
            "align_items": null,
            "align_self": null,
            "border": null,
            "bottom": null,
            "display": null,
            "flex": null,
            "flex_flow": null,
            "grid_area": null,
            "grid_auto_columns": null,
            "grid_auto_flow": null,
            "grid_auto_rows": null,
            "grid_column": null,
            "grid_gap": null,
            "grid_row": null,
            "grid_template_areas": null,
            "grid_template_columns": null,
            "grid_template_rows": null,
            "height": null,
            "justify_content": null,
            "justify_items": null,
            "left": null,
            "margin": null,
            "max_height": null,
            "max_width": null,
            "min_height": null,
            "min_width": null,
            "object_fit": null,
            "object_position": null,
            "order": null,
            "overflow": null,
            "overflow_x": null,
            "overflow_y": null,
            "padding": null,
            "right": null,
            "top": null,
            "visibility": null,
            "width": null
          }
        },
        "63ed10ecf8aa4cf2a106df27df566536": {
          "model_module": "@jupyter-widgets/base",
          "model_name": "LayoutModel",
          "model_module_version": "1.2.0",
          "state": {
            "_model_module": "@jupyter-widgets/base",
            "_model_module_version": "1.2.0",
            "_model_name": "LayoutModel",
            "_view_count": null,
            "_view_module": "@jupyter-widgets/base",
            "_view_module_version": "1.2.0",
            "_view_name": "LayoutView",
            "align_content": null,
            "align_items": null,
            "align_self": null,
            "border": null,
            "bottom": null,
            "display": null,
            "flex": null,
            "flex_flow": null,
            "grid_area": null,
            "grid_auto_columns": null,
            "grid_auto_flow": null,
            "grid_auto_rows": null,
            "grid_column": null,
            "grid_gap": null,
            "grid_row": null,
            "grid_template_areas": null,
            "grid_template_columns": null,
            "grid_template_rows": null,
            "height": null,
            "justify_content": null,
            "justify_items": null,
            "left": null,
            "margin": null,
            "max_height": null,
            "max_width": null,
            "min_height": null,
            "min_width": null,
            "object_fit": null,
            "object_position": null,
            "order": null,
            "overflow": null,
            "overflow_x": null,
            "overflow_y": null,
            "padding": null,
            "right": null,
            "top": null,
            "visibility": null,
            "width": null
          }
        },
        "56e52fdeac714adfbeba1f071d85a7ac": {
          "model_module": "@jupyter-widgets/controls",
          "model_name": "DescriptionStyleModel",
          "model_module_version": "1.5.0",
          "state": {
            "_model_module": "@jupyter-widgets/controls",
            "_model_module_version": "1.5.0",
            "_model_name": "DescriptionStyleModel",
            "_view_count": null,
            "_view_module": "@jupyter-widgets/base",
            "_view_module_version": "1.2.0",
            "_view_name": "StyleView",
            "description_width": ""
          }
        },
        "2464382dac67426786244d8ee42fae94": {
          "model_module": "@jupyter-widgets/base",
          "model_name": "LayoutModel",
          "model_module_version": "1.2.0",
          "state": {
            "_model_module": "@jupyter-widgets/base",
            "_model_module_version": "1.2.0",
            "_model_name": "LayoutModel",
            "_view_count": null,
            "_view_module": "@jupyter-widgets/base",
            "_view_module_version": "1.2.0",
            "_view_name": "LayoutView",
            "align_content": null,
            "align_items": null,
            "align_self": null,
            "border": null,
            "bottom": null,
            "display": null,
            "flex": null,
            "flex_flow": null,
            "grid_area": null,
            "grid_auto_columns": null,
            "grid_auto_flow": null,
            "grid_auto_rows": null,
            "grid_column": null,
            "grid_gap": null,
            "grid_row": null,
            "grid_template_areas": null,
            "grid_template_columns": null,
            "grid_template_rows": null,
            "height": null,
            "justify_content": null,
            "justify_items": null,
            "left": null,
            "margin": null,
            "max_height": null,
            "max_width": null,
            "min_height": null,
            "min_width": null,
            "object_fit": null,
            "object_position": null,
            "order": null,
            "overflow": null,
            "overflow_x": null,
            "overflow_y": null,
            "padding": null,
            "right": null,
            "top": null,
            "visibility": null,
            "width": null
          }
        },
        "5a90cf4d0aa64278b776365f4d2fcdd5": {
          "model_module": "@jupyter-widgets/controls",
          "model_name": "ProgressStyleModel",
          "model_module_version": "1.5.0",
          "state": {
            "_model_module": "@jupyter-widgets/controls",
            "_model_module_version": "1.5.0",
            "_model_name": "ProgressStyleModel",
            "_view_count": null,
            "_view_module": "@jupyter-widgets/base",
            "_view_module_version": "1.2.0",
            "_view_name": "StyleView",
            "bar_color": null,
            "description_width": ""
          }
        }
      }
    }
  },
  "nbformat": 4,
  "nbformat_minor": 0
}