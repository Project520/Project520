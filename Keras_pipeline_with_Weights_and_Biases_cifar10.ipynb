{
  "cells": [
    {
      "cell_type": "markdown",
      "metadata": {
        "id": "YRW8SmuMYM1I"
      },
      "source": [
        "<img src=\"http://wandb.me/logo-im-png\" width=\"400\" alt=\"Weights & Biases\"/> <br>"
      ]
    },
    {
      "cell_type": "code",
      "source": [
        "from keras.models import Sequential\n",
        "from keras.utils import np_utils\n",
        "from keras.preprocessing.image import ImageDataGenerator\n",
        "from keras.layers import Dense, Activation, Flatten, Dropout, BatchNormalization\n",
        "from keras.layers import Conv2D, MaxPooling2D\n",
        "from keras.datasets import cifar10\n",
        "from keras import regularizers, optimizers\n",
        "import numpy as np\n",
        "\n",
        "(x_train, y_train), (x_test, y_test) = cifar10.load_data()\n",
        "x_train = x_train.astype('float32')\n",
        "x_test = x_test.astype('float32')\n",
        "\n",
        "#z-score\n",
        "mean = np.mean(x_train,axis=(0,1,2,3))\n",
        "std = np.std(x_train,axis=(0,1,2,3))\n",
        "x_train = (x_train-mean)/(std+1e-7)\n",
        "x_test = (x_test-mean)/(std+1e-7)\n",
        "\n",
        "print(x_train.shape)\n",
        "num_classes = 10\n",
        "y_train = np_utils.to_categorical(y_train,num_classes)\n",
        "y_test = np_utils.to_categorical(y_test,num_classes)\n",
        "\n",
        "baseMapNum = 32\n",
        "weight_decay = 1e-4\n",
        "\n",
        "model = Sequential()\n",
        "model.add(Conv2D(baseMapNum, (3,3), padding='same', kernel_regularizer=regularizers.l2(weight_decay), input_shape=x_train.shape[1:]))\n",
        "model.add(Activation('relu'))\n",
        "model.add(BatchNormalization())\n",
        "model.add(Conv2D(baseMapNum, (3,3), padding='same', kernel_regularizer=regularizers.l2(weight_decay)))\n",
        "model.add(Activation('relu'))\n",
        "model.add(BatchNormalization())\n",
        "model.add(MaxPooling2D(pool_size=(2,2)))\n",
        "model.add(Dropout(0.2))\n",
        "\n",
        "model.add(Conv2D(2*baseMapNum, (3,3), padding='same', kernel_regularizer=regularizers.l2(weight_decay)))\n",
        "model.add(Activation('relu'))\n",
        "model.add(BatchNormalization())\n",
        "model.add(Conv2D(2*baseMapNum, (3,3), padding='same', kernel_regularizer=regularizers.l2(weight_decay)))\n",
        "model.add(Activation('relu'))\n",
        "model.add(BatchNormalization())\n",
        "model.add(MaxPooling2D(pool_size=(2,2)))\n",
        "model.add(Dropout(0.3))\n",
        "\n",
        "model.add(Conv2D(4*baseMapNum, (3,3), padding='same', kernel_regularizer=regularizers.l2(weight_decay)))\n",
        "model.add(Activation('relu'))\n",
        "model.add(BatchNormalization())\n",
        "model.add(Conv2D(4*baseMapNum, (3,3), padding='same', kernel_regularizer=regularizers.l2(weight_decay)))\n",
        "model.add(Activation('relu'))\n",
        "model.add(BatchNormalization())\n",
        "model.add(MaxPooling2D(pool_size=(2,2)))\n",
        "model.add(Dropout(0.4))\n",
        "\n",
        "model.add(Flatten())\n",
        "model.add(Dense(num_classes, activation='softmax'))\n"
      ],
      "metadata": {
        "id": "4shq2dNZ5-g2",
        "colab": {
          "base_uri": "https://localhost:8080/"
        },
        "outputId": "b78ee9ed-89eb-4adf-c9d8-10736393420f"
      },
      "execution_count": 22,
      "outputs": [
        {
          "output_type": "stream",
          "name": "stdout",
          "text": [
            "(50000, 3, 32, 32)\n"
          ]
        }
      ]
    },
    {
      "cell_type": "code",
      "source": [
        "print(model.summary())"
      ],
      "metadata": {
        "colab": {
          "base_uri": "https://localhost:8080/"
        },
        "id": "ZvpDiRMs6wOa",
        "outputId": "40150953-af64-4911-e8f7-4250d8daace8"
      },
      "execution_count": 23,
      "outputs": [
        {
          "output_type": "stream",
          "name": "stdout",
          "text": [
            "Model: \"sequential_5\"\n",
            "_________________________________________________________________\n",
            " Layer (type)                Output Shape              Param #   \n",
            "=================================================================\n",
            " conv2d_24 (Conv2D)          (None, 32, 32, 32)        896       \n",
            "                                                                 \n",
            " activation_18 (Activation)  (None, 32, 32, 32)        0         \n",
            "                                                                 \n",
            " batch_normalization_18 (Bat  (None, 32, 32, 32)       128       \n",
            " chNormalization)                                                \n",
            "                                                                 \n",
            " conv2d_25 (Conv2D)          (None, 32, 32, 32)        9248      \n",
            "                                                                 \n",
            " activation_19 (Activation)  (None, 32, 32, 32)        0         \n",
            "                                                                 \n",
            " batch_normalization_19 (Bat  (None, 32, 32, 32)       128       \n",
            " chNormalization)                                                \n",
            "                                                                 \n",
            " max_pooling2d_12 (MaxPoolin  (None, 32, 16, 16)       0         \n",
            " g2D)                                                            \n",
            "                                                                 \n",
            " dropout_15 (Dropout)        (None, 32, 16, 16)        0         \n",
            "                                                                 \n",
            " conv2d_26 (Conv2D)          (None, 64, 16, 16)        18496     \n",
            "                                                                 \n",
            " activation_20 (Activation)  (None, 64, 16, 16)        0         \n",
            "                                                                 \n",
            " batch_normalization_20 (Bat  (None, 64, 16, 16)       64        \n",
            " chNormalization)                                                \n",
            "                                                                 \n",
            " conv2d_27 (Conv2D)          (None, 64, 16, 16)        36928     \n",
            "                                                                 \n",
            " activation_21 (Activation)  (None, 64, 16, 16)        0         \n",
            "                                                                 \n",
            " batch_normalization_21 (Bat  (None, 64, 16, 16)       64        \n",
            " chNormalization)                                                \n",
            "                                                                 \n",
            " max_pooling2d_13 (MaxPoolin  (None, 64, 8, 8)         0         \n",
            " g2D)                                                            \n",
            "                                                                 \n",
            " dropout_16 (Dropout)        (None, 64, 8, 8)          0         \n",
            "                                                                 \n",
            " conv2d_28 (Conv2D)          (None, 128, 8, 8)         73856     \n",
            "                                                                 \n",
            " activation_22 (Activation)  (None, 128, 8, 8)         0         \n",
            "                                                                 \n",
            " batch_normalization_22 (Bat  (None, 128, 8, 8)        32        \n",
            " chNormalization)                                                \n",
            "                                                                 \n",
            " conv2d_29 (Conv2D)          (None, 128, 8, 8)         147584    \n",
            "                                                                 \n",
            " activation_23 (Activation)  (None, 128, 8, 8)         0         \n",
            "                                                                 \n",
            " batch_normalization_23 (Bat  (None, 128, 8, 8)        32        \n",
            " chNormalization)                                                \n",
            "                                                                 \n",
            " max_pooling2d_14 (MaxPoolin  (None, 128, 4, 4)        0         \n",
            " g2D)                                                            \n",
            "                                                                 \n",
            " dropout_17 (Dropout)        (None, 128, 4, 4)         0         \n",
            "                                                                 \n",
            " flatten_4 (Flatten)         (None, 2048)              0         \n",
            "                                                                 \n",
            " dense_6 (Dense)             (None, 10)                20490     \n",
            "                                                                 \n",
            "=================================================================\n",
            "Total params: 307,946\n",
            "Trainable params: 307,722\n",
            "Non-trainable params: 224\n",
            "_________________________________________________________________\n",
            "None\n"
          ]
        }
      ]
    },
    {
      "cell_type": "code",
      "source": [
        "lrate = 0.01 \n",
        "epochs = 18\n",
        "decay = lrate/epochs \n",
        "sgd = SGD(lr=lrate, momentum=0.9, decay=decay, nesterov=False) \n",
        "model.compile(loss='categorical_crossentropy', optimizer=sgd, metrics=['accuracy'])"
      ],
      "metadata": {
        "colab": {
          "base_uri": "https://localhost:8080/"
        },
        "id": "7-Km5fCj61a8",
        "outputId": "2b31f113-dc0e-4c0c-b79f-b660f921cb0c"
      },
      "execution_count": 24,
      "outputs": [
        {
          "output_type": "stream",
          "name": "stderr",
          "text": [
            "/usr/local/lib/python3.7/dist-packages/keras/optimizer_v2/gradient_descent.py:102: UserWarning: The `lr` argument is deprecated, use `learning_rate` instead.\n",
            "  super(SGD, self).__init__(name, **kwargs)\n"
          ]
        }
      ]
    },
    {
      "cell_type": "code",
      "source": [
        "#pip install intel-tensorflow"
      ],
      "metadata": {
        "id": "V4LCZDlM8ydR"
      },
      "execution_count": 8,
      "outputs": []
    },
    {
      "cell_type": "code",
      "source": [
        "#print(X_train.shape)\n",
        "# import numpy as np\n",
        "# X_train = np.transpose(X_train, (0, 2, 3, 1))\n",
        "# print(X_train.shape)\n",
        "# X_test = np.transpose(X_test, (0, 2, 3, 1))\n",
        "# print(X_test.shape)"
      ],
      "metadata": {
        "colab": {
          "base_uri": "https://localhost:8080/"
        },
        "id": "hXxNBUZb7HS9",
        "outputId": "770158f4-6c06-4307-f15e-19651777a78e"
      },
      "execution_count": 14,
      "outputs": [
        {
          "output_type": "stream",
          "name": "stdout",
          "text": [
            "(50000, 32, 32, 3)\n",
            "(10000, 32, 32, 3)\n"
          ]
        }
      ]
    },
    {
      "cell_type": "code",
      "source": [
        "datagen = ImageDataGenerator(\n",
        "    featurewise_center=False,\n",
        "    samplewise_center=False,\n",
        "    featurewise_std_normalization=False,\n",
        "    samplewise_std_normalization=False,\n",
        "    zca_whitening=False,\n",
        "    rotation_range=15,\n",
        "    width_shift_range=0.1,\n",
        "    height_shift_range=0.1,\n",
        "    horizontal_flip=True,\n",
        "    vertical_flip=False\n",
        "    )\n",
        "datagen.fit(x_train)\n"
      ],
      "metadata": {
        "id": "CPqJhQjLTbm5"
      },
      "execution_count": 27,
      "outputs": []
    },
    {
      "cell_type": "code",
      "source": [
        "import tensorflow\n",
        "import keras\n",
        "batch_size = 128\n",
        "epochs = 6\n",
        "opt_rms = tensorflow.keras.optimizers.RMSprop(lr=0.001,decay=1e-6)\n",
        "model.compile(loss='categorical_crossentropy',\n",
        "        optimizer=opt_rms,\n",
        "        metrics=['accuracy'])\n",
        "model.fit_generator(datagen.flow(x_train, y_train, batch_size=batch_size),steps_per_epoch=x_train.shape[0] // batch_size,epochs=3*epochs,verbose=1,validation_data=(x_test,y_test))\n",
        "model.save_weights('cifar10_normal_rms_ep75.h5')\n",
        "\n",
        "opt_rms = tensorflow.keras.optimizers.RMSprop(lr=0.0005,decay=1e-6)\n",
        "model.compile(loss='categorical_crossentropy',\n",
        "        optimizer=opt_rms,\n",
        "        metrics=['accuracy'])\n",
        "model.fit_generator(datagen.flow(x_train, y_train, batch_size=batch_size),steps_per_epoch=x_train.shape[0] // batch_size,epochs=epochs,verbose=1,validation_data=(x_test,y_test))\n",
        "model.save_weights('cifar10_normal_rms_ep100.h5')"
      ],
      "metadata": {
        "colab": {
          "base_uri": "https://localhost:8080/"
        },
        "id": "eVA-U8MCTnBk",
        "outputId": "3290e3c6-fc27-4402-813e-8248617084f5"
      },
      "execution_count": 32,
      "outputs": [
        {
          "output_type": "stream",
          "name": "stdout",
          "text": [
            "Epoch 1/18\n"
          ]
        },
        {
          "output_type": "stream",
          "name": "stderr",
          "text": [
            "/usr/local/lib/python3.7/dist-packages/keras/optimizer_v2/rmsprop.py:130: UserWarning: The `lr` argument is deprecated, use `learning_rate` instead.\n",
            "  super(RMSprop, self).__init__(name, **kwargs)\n",
            "/usr/local/lib/python3.7/dist-packages/ipykernel_launcher.py:9: UserWarning: `Model.fit_generator` is deprecated and will be removed in a future version. Please use `Model.fit`, which supports generators.\n",
            "  if __name__ == '__main__':\n"
          ]
        },
        {
          "output_type": "stream",
          "name": "stdout",
          "text": [
            "390/390 [==============================] - 26s 63ms/step - loss: 0.5602 - accuracy: 0.8551 - val_loss: 0.5656 - val_accuracy: 0.8640\n",
            "Epoch 2/18\n",
            "390/390 [==============================] - 25s 63ms/step - loss: 0.5607 - accuracy: 0.8563 - val_loss: 0.5931 - val_accuracy: 0.8516\n",
            "Epoch 3/18\n",
            "390/390 [==============================] - 25s 63ms/step - loss: 0.5582 - accuracy: 0.8576 - val_loss: 0.5447 - val_accuracy: 0.8669\n",
            "Epoch 4/18\n",
            "390/390 [==============================] - 24s 63ms/step - loss: 0.5580 - accuracy: 0.8556 - val_loss: 0.5830 - val_accuracy: 0.8557\n",
            "Epoch 5/18\n",
            "390/390 [==============================] - 24s 62ms/step - loss: 0.5528 - accuracy: 0.8594 - val_loss: 0.5432 - val_accuracy: 0.8678\n",
            "Epoch 6/18\n",
            "390/390 [==============================] - 26s 68ms/step - loss: 0.5476 - accuracy: 0.8622 - val_loss: 0.7135 - val_accuracy: 0.8284\n",
            "Epoch 7/18\n",
            "390/390 [==============================] - 24s 62ms/step - loss: 0.5552 - accuracy: 0.8587 - val_loss: 0.5510 - val_accuracy: 0.8657\n",
            "Epoch 8/18\n",
            "390/390 [==============================] - 24s 62ms/step - loss: 0.5496 - accuracy: 0.8591 - val_loss: 0.5684 - val_accuracy: 0.8616\n",
            "Epoch 9/18\n",
            "390/390 [==============================] - 24s 62ms/step - loss: 0.5485 - accuracy: 0.8611 - val_loss: 0.5613 - val_accuracy: 0.8657\n",
            "Epoch 10/18\n",
            "390/390 [==============================] - 24s 62ms/step - loss: 0.5480 - accuracy: 0.8613 - val_loss: 0.6202 - val_accuracy: 0.8457\n",
            "Epoch 11/18\n",
            "390/390 [==============================] - 24s 62ms/step - loss: 0.5443 - accuracy: 0.8623 - val_loss: 0.5434 - val_accuracy: 0.8709\n",
            "Epoch 12/18\n",
            "390/390 [==============================] - 24s 63ms/step - loss: 0.5418 - accuracy: 0.8627 - val_loss: 0.5463 - val_accuracy: 0.8641\n",
            "Epoch 13/18\n",
            "390/390 [==============================] - 24s 62ms/step - loss: 0.5422 - accuracy: 0.8652 - val_loss: 0.5479 - val_accuracy: 0.8681\n",
            "Epoch 14/18\n",
            "390/390 [==============================] - 24s 62ms/step - loss: 0.5478 - accuracy: 0.8615 - val_loss: 0.5422 - val_accuracy: 0.8696\n",
            "Epoch 15/18\n",
            "390/390 [==============================] - 24s 62ms/step - loss: 0.5498 - accuracy: 0.8610 - val_loss: 0.5674 - val_accuracy: 0.8616\n",
            "Epoch 16/18\n",
            "390/390 [==============================] - 24s 62ms/step - loss: 0.5444 - accuracy: 0.8633 - val_loss: 0.5674 - val_accuracy: 0.8648\n",
            "Epoch 17/18\n",
            "390/390 [==============================] - 24s 63ms/step - loss: 0.5423 - accuracy: 0.8651 - val_loss: 0.5495 - val_accuracy: 0.8687\n",
            "Epoch 18/18\n",
            "390/390 [==============================] - 24s 62ms/step - loss: 0.5371 - accuracy: 0.8655 - val_loss: 0.5179 - val_accuracy: 0.8749\n",
            "Epoch 1/6\n"
          ]
        },
        {
          "output_type": "stream",
          "name": "stderr",
          "text": [
            "/usr/local/lib/python3.7/dist-packages/ipykernel_launcher.py:16: UserWarning: `Model.fit_generator` is deprecated and will be removed in a future version. Please use `Model.fit`, which supports generators.\n",
            "  app.launch_new_instance()\n"
          ]
        },
        {
          "output_type": "stream",
          "name": "stdout",
          "text": [
            "390/390 [==============================] - 26s 63ms/step - loss: 0.5023 - accuracy: 0.8777 - val_loss: 0.5191 - val_accuracy: 0.8787\n",
            "Epoch 2/6\n",
            "390/390 [==============================] - 24s 62ms/step - loss: 0.4830 - accuracy: 0.8822 - val_loss: 0.5127 - val_accuracy: 0.8781\n",
            "Epoch 3/6\n",
            "390/390 [==============================] - 25s 63ms/step - loss: 0.4744 - accuracy: 0.8843 - val_loss: 0.5139 - val_accuracy: 0.8799\n",
            "Epoch 4/6\n",
            "390/390 [==============================] - 24s 63ms/step - loss: 0.4714 - accuracy: 0.8853 - val_loss: 0.4939 - val_accuracy: 0.8830\n",
            "Epoch 5/6\n",
            "390/390 [==============================] - 24s 62ms/step - loss: 0.4678 - accuracy: 0.8862 - val_loss: 0.5101 - val_accuracy: 0.8829\n",
            "Epoch 6/6\n",
            "390/390 [==============================] - 25s 63ms/step - loss: 0.4645 - accuracy: 0.8858 - val_loss: 0.4988 - val_accuracy: 0.8840\n"
          ]
        }
      ]
    },
    {
      "cell_type": "code",
      "source": [
        "# model.fit(x_train, y_train, validation_data=(x_test, y_test), epochs=epochs, batch_size=32) \n",
        "# # Final evaluation of the model \n",
        "scores = model.evaluate(x_test, y_test, verbose=0) \n",
        "print(\"Accuracy: %.2f%%\" % (scores[1]*100))"
      ],
      "metadata": {
        "colab": {
          "base_uri": "https://localhost:8080/"
        },
        "id": "du2Ve02Yg4kd",
        "outputId": "61499759-41e8-4701-933f-74e520c1abff"
      },
      "execution_count": 40,
      "outputs": [
        {
          "output_type": "stream",
          "name": "stdout",
          "text": [
            "Accuracy: 88.40%\n"
          ]
        }
      ]
    },
    {
      "cell_type": "code",
      "source": [
        "!pip install -qq wandb"
      ],
      "metadata": {
        "colab": {
          "base_uri": "https://localhost:8080/"
        },
        "id": "PX3dsjMjnjAa",
        "outputId": "64cb1bf5-052b-48f1-9b2e-176da2605f86"
      },
      "execution_count": 34,
      "outputs": [
        {
          "output_type": "stream",
          "name": "stdout",
          "text": [
            "\u001b[K     |████████████████████████████████| 1.8 MB 7.3 MB/s \n",
            "\u001b[K     |████████████████████████████████| 144 kB 64.4 MB/s \n",
            "\u001b[K     |████████████████████████████████| 181 kB 43.6 MB/s \n",
            "\u001b[K     |████████████████████████████████| 63 kB 1.9 MB/s \n",
            "\u001b[?25h  Building wheel for pathtools (setup.py) ... \u001b[?25l\u001b[?25hdone\n"
          ]
        }
      ]
    },
    {
      "cell_type": "code",
      "source": [
        "import wandb\n",
        "print(\"W&B: \", wandb.__version__)\n",
        "from wandb.keras import WandbCallback\n",
        "wandb.login()"
      ],
      "metadata": {
        "colab": {
          "base_uri": "https://localhost:8080/",
          "height": 88
        },
        "id": "YNOPZZMVnnt4",
        "outputId": "7115e74e-b65b-49c6-cbb5-17626882dc19"
      },
      "execution_count": 35,
      "outputs": [
        {
          "output_type": "stream",
          "name": "stdout",
          "text": [
            "W&B:  0.12.16\n"
          ]
        },
        {
          "output_type": "display_data",
          "data": {
            "text/plain": [
              "<IPython.core.display.Javascript object>"
            ],
            "application/javascript": [
              "\n",
              "        window._wandbApiKey = new Promise((resolve, reject) => {\n",
              "            function loadScript(url) {\n",
              "            return new Promise(function(resolve, reject) {\n",
              "                let newScript = document.createElement(\"script\");\n",
              "                newScript.onerror = reject;\n",
              "                newScript.onload = resolve;\n",
              "                document.body.appendChild(newScript);\n",
              "                newScript.src = url;\n",
              "            });\n",
              "            }\n",
              "            loadScript(\"https://cdn.jsdelivr.net/npm/postmate/build/postmate.min.js\").then(() => {\n",
              "            const iframe = document.createElement('iframe')\n",
              "            iframe.style.cssText = \"width:0;height:0;border:none\"\n",
              "            document.body.appendChild(iframe)\n",
              "            const handshake = new Postmate({\n",
              "                container: iframe,\n",
              "                url: 'https://wandb.ai/authorize'\n",
              "            });\n",
              "            const timeout = setTimeout(() => reject(\"Couldn't auto authenticate\"), 5000)\n",
              "            handshake.then(function(child) {\n",
              "                child.on('authorize', data => {\n",
              "                    clearTimeout(timeout)\n",
              "                    resolve(data)\n",
              "                });\n",
              "            });\n",
              "            })\n",
              "        });\n",
              "    "
            ]
          },
          "metadata": {}
        },
        {
          "output_type": "stream",
          "name": "stderr",
          "text": [
            "\u001b[34m\u001b[1mwandb\u001b[0m: Appending key for api.wandb.ai to your netrc file: /root/.netrc\n"
          ]
        },
        {
          "output_type": "execute_result",
          "data": {
            "text/plain": [
              "True"
            ]
          },
          "metadata": {},
          "execution_count": 35
        }
      ]
    },
    {
      "cell_type": "code",
      "source": [
        "wandb.init()\n",
        "predictions = model(x_test)\n",
        "ground_truth = y_test\n",
        "wandb.log({\"roc\" : wandb.plot.roc_curve( ground_truth_test, predictions,labels=None, classes_to_plot=None)})"
      ],
      "metadata": {
        "colab": {
          "base_uri": "https://localhost:8080/",
          "height": 174,
          "referenced_widgets": [
            "9b40a8a3c70d40fbb6f23e56c0503e54",
            "6d681428f769470d91d41c3b762ee4a2",
            "21701a92b5ee44209e562cffdabca8cc",
            "70d0153a73494517a13220a49522c2cb",
            "58c3ea0c25fe4200bee525a6d817de13",
            "e91f8ffc81ec44df8de30b74eabf9674",
            "34026d0e0fa44364ab53ddc201245288",
            "925e01247335474dbe0f2cef93ec1f5f"
          ]
        },
        "id": "dJkpiQ1XnOPh",
        "outputId": "264aaba0-fe22-43e9-8a4f-beb2d946b4fc"
      },
      "execution_count": 39,
      "outputs": [
        {
          "output_type": "display_data",
          "data": {
            "text/plain": [
              "<IPython.core.display.HTML object>"
            ],
            "text/html": [
              "Finishing last run (ID:1rkjbhhl) before initializing another..."
            ]
          },
          "metadata": {}
        },
        {
          "output_type": "display_data",
          "data": {
            "text/plain": [
              "<IPython.core.display.HTML object>"
            ],
            "text/html": [
              "Waiting for W&B process to finish... <strong style=\"color:green\">(success).</strong>"
            ]
          },
          "metadata": {}
        },
        {
          "output_type": "display_data",
          "data": {
            "text/plain": [
              "VBox(children=(Label(value='0.001 MB of 0.001 MB uploaded (0.000 MB deduped)\\r'), FloatProgress(value=1.0, max…"
            ],
            "application/vnd.jupyter.widget-view+json": {
              "version_major": 2,
              "version_minor": 0,
              "model_id": "9b40a8a3c70d40fbb6f23e56c0503e54"
            }
          },
          "metadata": {}
        },
        {
          "output_type": "display_data",
          "data": {
            "text/plain": [
              "<IPython.core.display.HTML object>"
            ],
            "text/html": [
              "Synced <strong style=\"color:#cdcd00\">sandy-shadow-20</strong>: <a href=\"https://wandb.ai/psingla/uncategorized/runs/1rkjbhhl\" target=\"_blank\">https://wandb.ai/psingla/uncategorized/runs/1rkjbhhl</a><br/>Synced 4 W&B file(s), 0 media file(s), 0 artifact file(s) and 0 other file(s)"
            ]
          },
          "metadata": {}
        },
        {
          "output_type": "display_data",
          "data": {
            "text/plain": [
              "<IPython.core.display.HTML object>"
            ],
            "text/html": [
              "Find logs at: <code>./wandb/run-20220508_023552-1rkjbhhl/logs</code>"
            ]
          },
          "metadata": {}
        },
        {
          "output_type": "display_data",
          "data": {
            "text/plain": [
              "<IPython.core.display.HTML object>"
            ],
            "text/html": [
              "Successfully finished last run (ID:1rkjbhhl). Initializing new run:<br/>"
            ]
          },
          "metadata": {}
        },
        {
          "output_type": "display_data",
          "data": {
            "text/plain": [
              "<IPython.core.display.HTML object>"
            ],
            "text/html": [
              "Tracking run with wandb version 0.12.16"
            ]
          },
          "metadata": {}
        },
        {
          "output_type": "display_data",
          "data": {
            "text/plain": [
              "<IPython.core.display.HTML object>"
            ],
            "text/html": [
              "Run data is saved locally in <code>/content/wandb/run-20220508_023625-1nrptvii</code>"
            ]
          },
          "metadata": {}
        },
        {
          "output_type": "display_data",
          "data": {
            "text/plain": [
              "<IPython.core.display.HTML object>"
            ],
            "text/html": [
              "Syncing run <strong><a href=\"https://wandb.ai/psingla/uncategorized/runs/1nrptvii\" target=\"_blank\">vocal-paper-21</a></strong> to <a href=\"https://wandb.ai/psingla/uncategorized\" target=\"_blank\">Weights & Biases</a> (<a href=\"https://wandb.me/run\" target=\"_blank\">docs</a>)<br/>"
            ]
          },
          "metadata": {}
        }
      ]
    }
  ],
  "metadata": {
    "colab": {
      "name": "Keras_pipeline_with_Weights_and_Biases-cifar10.ipynb",
      "provenance": [],
      "collapsed_sections": []
    },
    "kernelspec": {
      "display_name": "Python 3 (ipykernel)",
      "language": "python",
      "name": "python3"
    },
    "widgets": {
      "application/vnd.jupyter.widget-state+json": {
        "9b40a8a3c70d40fbb6f23e56c0503e54": {
          "model_module": "@jupyter-widgets/controls",
          "model_name": "VBoxModel",
          "model_module_version": "1.5.0",
          "state": {
            "_dom_classes": [],
            "_model_module": "@jupyter-widgets/controls",
            "_model_module_version": "1.5.0",
            "_model_name": "VBoxModel",
            "_view_count": null,
            "_view_module": "@jupyter-widgets/controls",
            "_view_module_version": "1.5.0",
            "_view_name": "VBoxView",
            "box_style": "",
            "children": [
              "IPY_MODEL_6d681428f769470d91d41c3b762ee4a2",
              "IPY_MODEL_21701a92b5ee44209e562cffdabca8cc"
            ],
            "layout": "IPY_MODEL_70d0153a73494517a13220a49522c2cb"
          }
        },
        "6d681428f769470d91d41c3b762ee4a2": {
          "model_module": "@jupyter-widgets/controls",
          "model_name": "LabelModel",
          "model_module_version": "1.5.0",
          "state": {
            "_dom_classes": [],
            "_model_module": "@jupyter-widgets/controls",
            "_model_module_version": "1.5.0",
            "_model_name": "LabelModel",
            "_view_count": null,
            "_view_module": "@jupyter-widgets/controls",
            "_view_module_version": "1.5.0",
            "_view_name": "LabelView",
            "description": "",
            "description_tooltip": null,
            "layout": "IPY_MODEL_58c3ea0c25fe4200bee525a6d817de13",
            "placeholder": "​",
            "style": "IPY_MODEL_e91f8ffc81ec44df8de30b74eabf9674",
            "value": "0.008 MB of 0.008 MB uploaded (0.000 MB deduped)\r"
          }
        },
        "21701a92b5ee44209e562cffdabca8cc": {
          "model_module": "@jupyter-widgets/controls",
          "model_name": "FloatProgressModel",
          "model_module_version": "1.5.0",
          "state": {
            "_dom_classes": [],
            "_model_module": "@jupyter-widgets/controls",
            "_model_module_version": "1.5.0",
            "_model_name": "FloatProgressModel",
            "_view_count": null,
            "_view_module": "@jupyter-widgets/controls",
            "_view_module_version": "1.5.0",
            "_view_name": "ProgressView",
            "bar_style": "",
            "description": "",
            "description_tooltip": null,
            "layout": "IPY_MODEL_34026d0e0fa44364ab53ddc201245288",
            "max": 1,
            "min": 0,
            "orientation": "horizontal",
            "style": "IPY_MODEL_925e01247335474dbe0f2cef93ec1f5f",
            "value": 1
          }
        },
        "70d0153a73494517a13220a49522c2cb": {
          "model_module": "@jupyter-widgets/base",
          "model_name": "LayoutModel",
          "model_module_version": "1.2.0",
          "state": {
            "_model_module": "@jupyter-widgets/base",
            "_model_module_version": "1.2.0",
            "_model_name": "LayoutModel",
            "_view_count": null,
            "_view_module": "@jupyter-widgets/base",
            "_view_module_version": "1.2.0",
            "_view_name": "LayoutView",
            "align_content": null,
            "align_items": null,
            "align_self": null,
            "border": null,
            "bottom": null,
            "display": null,
            "flex": null,
            "flex_flow": null,
            "grid_area": null,
            "grid_auto_columns": null,
            "grid_auto_flow": null,
            "grid_auto_rows": null,
            "grid_column": null,
            "grid_gap": null,
            "grid_row": null,
            "grid_template_areas": null,
            "grid_template_columns": null,
            "grid_template_rows": null,
            "height": null,
            "justify_content": null,
            "justify_items": null,
            "left": null,
            "margin": null,
            "max_height": null,
            "max_width": null,
            "min_height": null,
            "min_width": null,
            "object_fit": null,
            "object_position": null,
            "order": null,
            "overflow": null,
            "overflow_x": null,
            "overflow_y": null,
            "padding": null,
            "right": null,
            "top": null,
            "visibility": null,
            "width": null
          }
        },
        "58c3ea0c25fe4200bee525a6d817de13": {
          "model_module": "@jupyter-widgets/base",
          "model_name": "LayoutModel",
          "model_module_version": "1.2.0",
          "state": {
            "_model_module": "@jupyter-widgets/base",
            "_model_module_version": "1.2.0",
            "_model_name": "LayoutModel",
            "_view_count": null,
            "_view_module": "@jupyter-widgets/base",
            "_view_module_version": "1.2.0",
            "_view_name": "LayoutView",
            "align_content": null,
            "align_items": null,
            "align_self": null,
            "border": null,
            "bottom": null,
            "display": null,
            "flex": null,
            "flex_flow": null,
            "grid_area": null,
            "grid_auto_columns": null,
            "grid_auto_flow": null,
            "grid_auto_rows": null,
            "grid_column": null,
            "grid_gap": null,
            "grid_row": null,
            "grid_template_areas": null,
            "grid_template_columns": null,
            "grid_template_rows": null,
            "height": null,
            "justify_content": null,
            "justify_items": null,
            "left": null,
            "margin": null,
            "max_height": null,
            "max_width": null,
            "min_height": null,
            "min_width": null,
            "object_fit": null,
            "object_position": null,
            "order": null,
            "overflow": null,
            "overflow_x": null,
            "overflow_y": null,
            "padding": null,
            "right": null,
            "top": null,
            "visibility": null,
            "width": null
          }
        },
        "e91f8ffc81ec44df8de30b74eabf9674": {
          "model_module": "@jupyter-widgets/controls",
          "model_name": "DescriptionStyleModel",
          "model_module_version": "1.5.0",
          "state": {
            "_model_module": "@jupyter-widgets/controls",
            "_model_module_version": "1.5.0",
            "_model_name": "DescriptionStyleModel",
            "_view_count": null,
            "_view_module": "@jupyter-widgets/base",
            "_view_module_version": "1.2.0",
            "_view_name": "StyleView",
            "description_width": ""
          }
        },
        "34026d0e0fa44364ab53ddc201245288": {
          "model_module": "@jupyter-widgets/base",
          "model_name": "LayoutModel",
          "model_module_version": "1.2.0",
          "state": {
            "_model_module": "@jupyter-widgets/base",
            "_model_module_version": "1.2.0",
            "_model_name": "LayoutModel",
            "_view_count": null,
            "_view_module": "@jupyter-widgets/base",
            "_view_module_version": "1.2.0",
            "_view_name": "LayoutView",
            "align_content": null,
            "align_items": null,
            "align_self": null,
            "border": null,
            "bottom": null,
            "display": null,
            "flex": null,
            "flex_flow": null,
            "grid_area": null,
            "grid_auto_columns": null,
            "grid_auto_flow": null,
            "grid_auto_rows": null,
            "grid_column": null,
            "grid_gap": null,
            "grid_row": null,
            "grid_template_areas": null,
            "grid_template_columns": null,
            "grid_template_rows": null,
            "height": null,
            "justify_content": null,
            "justify_items": null,
            "left": null,
            "margin": null,
            "max_height": null,
            "max_width": null,
            "min_height": null,
            "min_width": null,
            "object_fit": null,
            "object_position": null,
            "order": null,
            "overflow": null,
            "overflow_x": null,
            "overflow_y": null,
            "padding": null,
            "right": null,
            "top": null,
            "visibility": null,
            "width": null
          }
        },
        "925e01247335474dbe0f2cef93ec1f5f": {
          "model_module": "@jupyter-widgets/controls",
          "model_name": "ProgressStyleModel",
          "model_module_version": "1.5.0",
          "state": {
            "_model_module": "@jupyter-widgets/controls",
            "_model_module_version": "1.5.0",
            "_model_name": "ProgressStyleModel",
            "_view_count": null,
            "_view_module": "@jupyter-widgets/base",
            "_view_module_version": "1.2.0",
            "_view_name": "StyleView",
            "bar_color": null,
            "description_width": ""
          }
        }
      }
    },
    "accelerator": "GPU"
  },
  "nbformat": 4,
  "nbformat_minor": 0
}