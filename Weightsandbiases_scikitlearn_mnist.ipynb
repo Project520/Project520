{
  "cells": [
    {
      "cell_type": "code",
      "execution_count": 1,
      "metadata": {
        "id": "43Uby1TVXK1L"
      },
      "outputs": [],
      "source": [
        "#import statements for running the models\n",
        "\n",
        "import warnings\n",
        "\n",
        "import matplotlib.pyplot as plt\n",
        "import numpy as np\n",
        "import pandas as pd\n",
        "\n",
        "from sklearn import datasets, cluster\n",
        "\n",
        "from sklearn.model_selection import train_test_split\n",
        "from sklearn.utils.class_weight import compute_class_weight\n",
        "\n",
        "from sklearn.exceptions import ConvergenceWarning\n",
        "warnings.filterwarnings(\"ignore\", category=ConvergenceWarning)"
      ]
    },
    {
      "cell_type": "markdown",
      "metadata": {
        "id": "eJO0cz2IXK1R"
      },
      "source": [
        "## Installing weights and biases and logging in "
      ]
    },
    {
      "cell_type": "code",
      "execution_count": 2,
      "metadata": {
        "id": "jyIdDt2lXK1U"
      },
      "outputs": [],
      "source": [
        "%%capture\n",
        "!pip install wandb\n",
        "import wandb\n",
        "#installing wandb dependencies"
      ]
    },
    {
      "cell_type": "code",
      "source": [
        "wandb.login() #login in another cell to directly login with broswer"
      ],
      "metadata": {
        "colab": {
          "base_uri": "https://localhost:8080/",
          "height": 69
        },
        "id": "xOf5FvUTmq-E",
        "outputId": "a4ac0ef8-f5e3-41e0-9d88-2107776270c2"
      },
      "execution_count": 3,
      "outputs": [
        {
          "output_type": "display_data",
          "data": {
            "text/plain": [
              "<IPython.core.display.Javascript object>"
            ],
            "application/javascript": [
              "\n",
              "        window._wandbApiKey = new Promise((resolve, reject) => {\n",
              "            function loadScript(url) {\n",
              "            return new Promise(function(resolve, reject) {\n",
              "                let newScript = document.createElement(\"script\");\n",
              "                newScript.onerror = reject;\n",
              "                newScript.onload = resolve;\n",
              "                document.body.appendChild(newScript);\n",
              "                newScript.src = url;\n",
              "            });\n",
              "            }\n",
              "            loadScript(\"https://cdn.jsdelivr.net/npm/postmate/build/postmate.min.js\").then(() => {\n",
              "            const iframe = document.createElement('iframe')\n",
              "            iframe.style.cssText = \"width:0;height:0;border:none\"\n",
              "            document.body.appendChild(iframe)\n",
              "            const handshake = new Postmate({\n",
              "                container: iframe,\n",
              "                url: 'https://wandb.ai/authorize'\n",
              "            });\n",
              "            const timeout = setTimeout(() => reject(\"Couldn't auto authenticate\"), 5000)\n",
              "            handshake.then(function(child) {\n",
              "                child.on('authorize', data => {\n",
              "                    clearTimeout(timeout)\n",
              "                    resolve(data)\n",
              "                });\n",
              "            });\n",
              "            })\n",
              "        });\n",
              "    "
            ]
          },
          "metadata": {}
        },
        {
          "output_type": "stream",
          "name": "stderr",
          "text": [
            "\u001b[34m\u001b[1mwandb\u001b[0m: Appending key for api.wandb.ai to your netrc file: /root/.netrc\n"
          ]
        },
        {
          "output_type": "execute_result",
          "data": {
            "text/plain": [
              "True"
            ]
          },
          "metadata": {},
          "execution_count": 3
        }
      ]
    },
    {
      "cell_type": "markdown",
      "metadata": {
        "id": "L0OTeJr6XK1a"
      },
      "source": [
        "# MLP\n",
        "\n",
        "**implementation for MNIST**"
      ]
    },
    {
      "cell_type": "code",
      "execution_count": 4,
      "metadata": {
        "id": "1pXXeUM8XK1b"
      },
      "outputs": [],
      "source": [
        "# Load data\n",
        "mnist = datasets.fetch_openml('mnist_784')\n",
        "\n"
      ]
    },
    {
      "cell_type": "code",
      "source": [
        "X = pd.DataFrame(mnist.data, columns=mnist.feature_names)\n",
        "y = mnist.target\n",
        "#loading data into pandas dataframe\n",
        "print(X.shape,y.shape)\n",
        "\n",
        "print(X.shape,y.shape)\n",
        "\n",
        "X = X/255.\n",
        "#normalizing the data\n",
        "X_train, X_test, y_train, y_test = train_test_split(X, y, test_size=0.3)\n",
        "#splitting into test and train datasets\n",
        "import matplotlib.pyplot as plt\n",
        "\n",
        "#visualizing the label\n",
        "x_train = np.array(X_train)\n",
        "print(type(np.array(x_train)))\n",
        "a,idx = np.unique(np.array(y_train),return_index=True)\n",
        "for i in idx:\n",
        "  print(\"Label is : \",np.array(y_train)[i])\n",
        "  plt.imshow(x_train[i].reshape(28,28))\n",
        "\n"
      ],
      "metadata": {
        "colab": {
          "base_uri": "https://localhost:8080/",
          "height": 491
        },
        "id": "pNZYDxQHe49B",
        "outputId": "7221a1e5-d999-486b-fd16-504044e383fc"
      },
      "execution_count": 5,
      "outputs": [
        {
          "output_type": "stream",
          "name": "stdout",
          "text": [
            "(70000, 784) (70000,)\n",
            "(70000, 784) (70000,)\n",
            "<class 'numpy.ndarray'>\n",
            "Label is :  0\n",
            "Label is :  1\n",
            "Label is :  2\n",
            "Label is :  3\n",
            "Label is :  4\n",
            "Label is :  5\n",
            "Label is :  6\n",
            "Label is :  7\n",
            "Label is :  8\n",
            "Label is :  9\n"
          ]
        },
        {
          "output_type": "display_data",
          "data": {
            "text/plain": [
              "<Figure size 432x288 with 1 Axes>"
            ],
            "image/png": "[encoded data removed]"
          },
          "metadata": {
            "needs_background": "light"
          }
        }
      ]
    },
    {
      "cell_type": "code",
      "source": [
        "from sklearn.neural_network import MLPClassifier\n",
        "#definign the model and training\n",
        "\n",
        "mlp = MLPClassifier(hidden_layer_sizes=(50,75,150,75,50,), max_iter=20, alpha=1e-4, \n",
        "                    solver='sgd', verbose=10, random_state=420, learning_rate_init=.1)\n",
        "mlp.fit(X_train,y_train)"
      ],
      "metadata": {
        "colab": {
          "base_uri": "https://localhost:8080/"
        },
        "id": "xOcjzB6Sdrnx",
        "outputId": "e745f1c6-2998-483d-fbd9-37c69a68c697"
      },
      "execution_count": 6,
      "outputs": [
        {
          "output_type": "stream",
          "name": "stdout",
          "text": [
            "Iteration 1, loss = 0.61188069\n",
            "Iteration 2, loss = 0.18374422\n",
            "Iteration 3, loss = 0.14050088\n",
            "Iteration 4, loss = 0.11902232\n",
            "Iteration 5, loss = 0.10404945\n",
            "Iteration 6, loss = 0.09277836\n",
            "Iteration 7, loss = 0.08647001\n",
            "Iteration 8, loss = 0.07702665\n",
            "Iteration 9, loss = 0.07068667\n",
            "Iteration 10, loss = 0.06637986\n",
            "Iteration 11, loss = 0.05807180\n",
            "Iteration 12, loss = 0.05461076\n",
            "Iteration 13, loss = 0.05285883\n",
            "Iteration 14, loss = 0.05098185\n",
            "Iteration 15, loss = 0.04865160\n",
            "Iteration 16, loss = 0.04390610\n",
            "Iteration 17, loss = 0.04428311\n",
            "Iteration 18, loss = 0.04132701\n",
            "Iteration 19, loss = 0.03889111\n",
            "Iteration 20, loss = 0.03784987\n"
          ]
        },
        {
          "output_type": "execute_result",
          "data": {
            "text/plain": [
              "MLPClassifier(hidden_layer_sizes=(50, 75, 150, 75, 50), learning_rate_init=0.1,\n",
              "              max_iter=20, random_state=420, solver='sgd', verbose=10)"
            ]
          },
          "metadata": {},
          "execution_count": 6
        }
      ]
    },
    {
      "cell_type": "code",
      "source": [
        "print(mlp.score(X_train,y_train))\n",
        "print(mlp.score(X_test,y_test))\n",
        "#priting evaluation"
      ],
      "metadata": {
        "colab": {
          "base_uri": "https://localhost:8080/"
        },
        "id": "tByquEiHfOT7",
        "outputId": "804cb678-d035-43d5-883c-54b6d948c43d"
      },
      "execution_count": 7,
      "outputs": [
        {
          "output_type": "stream",
          "name": "stdout",
          "text": [
            "0.9893265306122448\n",
            "0.9664761904761905\n"
          ]
        }
      ]
    },
    {
      "cell_type": "markdown",
      "metadata": {
        "id": "u54XlbLDXK1e"
      },
      "source": [
        "Initializing Weights and biases"
      ]
    },
    {
      "cell_type": "code",
      "execution_count": 8,
      "metadata": {
        "id": "FGvrNsitXK1q",
        "colab": {
          "base_uri": "https://localhost:8080/",
          "height": 86
        },
        "outputId": "0dec7e35-3aee-40ad-8057-871bce892d5b"
      },
      "outputs": [
        {
          "output_type": "stream",
          "name": "stderr",
          "text": [
            "\u001b[34m\u001b[1mwandb\u001b[0m: Currently logged in as: \u001b[33mvikasmehta\u001b[0m. Use \u001b[1m`wandb login --relogin`\u001b[0m to force relogin\n"
          ]
        },
        {
          "output_type": "display_data",
          "data": {
            "text/plain": [
              "<IPython.core.display.HTML object>"
            ],
            "text/html": [
              "Tracking run with wandb version 0.12.16"
            ]
          },
          "metadata": {}
        },
        {
          "output_type": "display_data",
          "data": {
            "text/plain": [
              "<IPython.core.display.HTML object>"
            ],
            "text/html": [
              "Run data is saved locally in <code>/content/wandb/run-20220508_033500-2sf2iwfw</code>"
            ]
          },
          "metadata": {}
        },
        {
          "output_type": "display_data",
          "data": {
            "text/plain": [
              "<IPython.core.display.HTML object>"
            ],
            "text/html": [
              "Syncing run <strong><a href=\"https://wandb.ai/vikasmehta/mnist-class/runs/2sf2iwfw\" target=\"_blank\">class-1</a></strong> to <a href=\"https://wandb.ai/vikasmehta/mnist-class\" target=\"_blank\">Weights & Biases</a> (<a href=\"https://wandb.me/run\" target=\"_blank\">docs</a>)<br/>"
            ]
          },
          "metadata": {}
        }
      ],
      "source": [
        "run = wandb.init(project='mnist-class', name=\"class-1\")\n",
        "#creating object for upload to wandb"
      ]
    },
    {
      "cell_type": "markdown",
      "metadata": {
        "id": "UxtIuwKlXK1w"
      },
      "source": [
        "#Plotting the curves in the logged in account"
      ]
    },
    {
      "cell_type": "code",
      "execution_count": 9,
      "metadata": {
        "id": "JOsp0mlkXK1w",
        "colab": {
          "base_uri": "https://localhost:8080/",
          "height": 419,
          "referenced_widgets": [
            "c4044289b8794630a535956b8c605fe6",
            "ca22f2544f5e4389ba5bd7f286a15f10",
            "c014b86b2382422cbc796e0b956ff171",
            "baad0e52b4c749a7bfe0eebf413a673d",
            "36eedb6f8772467c86c38158a701bd9f",
            "3a5d495d0598487080d1f1c157cdac4d",
            "7ef12d8b10444e6497af7cb2b561234b",
            "ab9cb846e38a44db99242f96847796b6"
          ]
        },
        "outputId": "75ce708b-2c92-4a58-c03a-8e0e08221c45"
      },
      "outputs": [
        {
          "output_type": "stream",
          "name": "stderr",
          "text": [
            "\u001b[34m\u001b[1mwandb\u001b[0m: \n",
            "\u001b[34m\u001b[1mwandb\u001b[0m: Plotting MLP-MNIST.\n",
            "/usr/local/lib/python3.7/dist-packages/sklearn/base.py:451: UserWarning: X does not have valid feature names, but MLPClassifier was fitted with feature names\n",
            "  \"X does not have valid feature names, but\"\n",
            "\u001b[34m\u001b[1mwandb\u001b[0m: \u001b[33mWARNING\u001b[0m could not find any of attributes feature_importances_, feature_log_prob_, coef_ on classifier. Cannot plot feature importances.\n",
            "\u001b[34m\u001b[1mwandb\u001b[0m: Logged feature importances.\n",
            "\u001b[34m\u001b[1mwandb\u001b[0m: Logged confusion matrix.\n",
            "/usr/local/lib/python3.7/dist-packages/sklearn/base.py:451: UserWarning: X does not have valid feature names, but MLPClassifier was fitted with feature names\n",
            "  \"X does not have valid feature names, but\"\n",
            "\u001b[34m\u001b[1mwandb\u001b[0m: Logged summary metrics.\n",
            "\u001b[34m\u001b[1mwandb\u001b[0m: Logged class proportions.\n",
            "/usr/local/lib/python3.7/dist-packages/sklearn/base.py:451: UserWarning: X does not have valid feature names, but MLPClassifier was fitted with feature names\n",
            "  \"X does not have valid feature names, but\"\n",
            "\u001b[34m\u001b[1mwandb\u001b[0m: \u001b[33mWARNING\u001b[0m This function only supports binary classification at the moment and therefore expects labels to be binary. Skipping calibration curve.\n",
            "\u001b[34m\u001b[1mwandb\u001b[0m: Logged calibration curve.\n",
            "\u001b[34m\u001b[1mwandb\u001b[0m: \u001b[33mWARNING\u001b[0m wandb.plots.* functions are deprecated and will be removed in a future release. Please use wandb.plot.* instead.\n",
            "\u001b[34m\u001b[1mwandb\u001b[0m: Logged roc curve.\n",
            "\u001b[34m\u001b[1mwandb\u001b[0m: Logged precision-recall curve.\n"
          ]
        },
        {
          "output_type": "display_data",
          "data": {
            "text/plain": [
              "<IPython.core.display.HTML object>"
            ],
            "text/html": [
              "Waiting for W&B process to finish... <strong style=\"color:green\">(success).</strong>"
            ]
          },
          "metadata": {}
        },
        {
          "output_type": "display_data",
          "data": {
            "text/plain": [
              "VBox(children=(Label(value='0.096 MB of 0.099 MB uploaded (0.000 MB deduped)\\r'), FloatProgress(value=0.960955…"
            ],
            "application/vnd.jupyter.widget-view+json": {
              "version_major": 2,
              "version_minor": 0,
              "model_id": "c4044289b8794630a535956b8c605fe6"
            }
          },
          "metadata": {}
        },
        {
          "output_type": "display_data",
          "data": {
            "text/plain": [
              "<IPython.core.display.HTML object>"
            ],
            "text/html": [
              "Synced <strong style=\"color:#cdcd00\">class-1</strong>: <a href=\"https://wandb.ai/vikasmehta/mnist-class/runs/2sf2iwfw\" target=\"_blank\">https://wandb.ai/vikasmehta/mnist-class/runs/2sf2iwfw</a><br/>Synced 5 W&B file(s), 5 media file(s), 5 artifact file(s) and 0 other file(s)"
            ]
          },
          "metadata": {}
        },
        {
          "output_type": "display_data",
          "data": {
            "text/plain": [
              "<IPython.core.display.HTML object>"
            ],
            "text/html": [
              "Find logs at: <code>./wandb/run-20220508_033500-2sf2iwfw/logs</code>"
            ]
          },
          "metadata": {}
        }
      ],
      "source": [
        "y_pred = mlp.predict(X_test)\n",
        "y_probas = mlp.predict_proba(X_test)\n",
        "wandb.sklearn.plot_classifier(mlp, \n",
        "                              X_train, X_test, \n",
        "                              y_train, y_test, \n",
        "                              y_pred, y_probas, \n",
        "                              np.unique(y_train), \n",
        "                              is_binary=False, \n",
        "                              model_name='MLP-MNIST')\n",
        "\n",
        "wandb.finish()\n",
        "#generating curves and adding to wandb dashboard"
      ]
    },
    {
      "cell_type": "code",
      "source": [
        "\n"
      ],
      "metadata": {
        "id": "NPiPlrFCm0rV"
      },
      "execution_count": 9,
      "outputs": []
    }
  ],
  "metadata": {
    "colab": {
      "toc_visible": true,
      "name": "Weightsandbiases-scikitlearn-mnist.ipynb",
      "provenance": [],
      "collapsed_sections": []
    },
    "kernelspec": {
      "display_name": "Python 3 (ipykernel)",
      "language": "python",
      "name": "python3"
    },
    "widgets": {
      "application/vnd.jupyter.widget-state+json": {
        "c4044289b8794630a535956b8c605fe6": {
          "model_module": "@jupyter-widgets/controls",
          "model_name": "VBoxModel",
          "model_module_version": "1.5.0",
          "state": {
            "_dom_classes": [],
            "_model_module": "@jupyter-widgets/controls",
            "_model_module_version": "1.5.0",
            "_model_name": "VBoxModel",
            "_view_count": null,
            "_view_module": "@jupyter-widgets/controls",
            "_view_module_version": "1.5.0",
            "_view_name": "VBoxView",
            "box_style": "",
            "children": [
              "IPY_MODEL_ca22f2544f5e4389ba5bd7f286a15f10",
              "IPY_MODEL_c014b86b2382422cbc796e0b956ff171"
            ],
            "layout": "IPY_MODEL_baad0e52b4c749a7bfe0eebf413a673d"
          }
        },
        "ca22f2544f5e4389ba5bd7f286a15f10": {
          "model_module": "@jupyter-widgets/controls",
          "model_name": "LabelModel",
          "model_module_version": "1.5.0",
          "state": {
            "_dom_classes": [],
            "_model_module": "@jupyter-widgets/controls",
            "_model_module_version": "1.5.0",
            "_model_name": "LabelModel",
            "_view_count": null,
            "_view_module": "@jupyter-widgets/controls",
            "_view_module_version": "1.5.0",
            "_view_name": "LabelView",
            "description": "",
            "description_tooltip": null,
            "layout": "IPY_MODEL_36eedb6f8772467c86c38158a701bd9f",
            "placeholder": "​",
            "style": "IPY_MODEL_3a5d495d0598487080d1f1c157cdac4d",
            "value": "0.112 MB of 0.112 MB uploaded (0.000 MB deduped)\r"
          }
        },
        "c014b86b2382422cbc796e0b956ff171": {
          "model_module": "@jupyter-widgets/controls",
          "model_name": "FloatProgressModel",
          "model_module_version": "1.5.0",
          "state": {
            "_dom_classes": [],
            "_model_module": "@jupyter-widgets/controls",
            "_model_module_version": "1.5.0",
            "_model_name": "FloatProgressModel",
            "_view_count": null,
            "_view_module": "@jupyter-widgets/controls",
            "_view_module_version": "1.5.0",
            "_view_name": "ProgressView",
            "bar_style": "",
            "description": "",
            "description_tooltip": null,
            "layout": "IPY_MODEL_7ef12d8b10444e6497af7cb2b561234b",
            "max": 1,
            "min": 0,
            "orientation": "horizontal",
            "style": "IPY_MODEL_ab9cb846e38a44db99242f96847796b6",
            "value": 1
          }
        },
        "baad0e52b4c749a7bfe0eebf413a673d": {
          "model_module": "@jupyter-widgets/base",
          "model_name": "LayoutModel",
          "model_module_version": "1.2.0",
          "state": {
            "_model_module": "@jupyter-widgets/base",
            "_model_module_version": "1.2.0",
            "_model_name": "LayoutModel",
            "_view_count": null,
            "_view_module": "@jupyter-widgets/base",
            "_view_module_version": "1.2.0",
            "_view_name": "LayoutView",
            "align_content": null,
            "align_items": null,
            "align_self": null,
            "border": null,
            "bottom": null,
            "display": null,
            "flex": null,
            "flex_flow": null,
            "grid_area": null,
            "grid_auto_columns": null,
            "grid_auto_flow": null,
            "grid_auto_rows": null,
            "grid_column": null,
            "grid_gap": null,
            "grid_row": null,
            "grid_template_areas": null,
            "grid_template_columns": null,
            "grid_template_rows": null,
            "height": null,
            "justify_content": null,
            "justify_items": null,
            "left": null,
            "margin": null,
            "max_height": null,
            "max_width": null,
            "min_height": null,
            "min_width": null,
            "object_fit": null,
            "object_position": null,
            "order": null,
            "overflow": null,
            "overflow_x": null,
            "overflow_y": null,
            "padding": null,
            "right": null,
            "top": null,
            "visibility": null,
            "width": null
          }
        },
        "36eedb6f8772467c86c38158a701bd9f": {
          "model_module": "@jupyter-widgets/base",
          "model_name": "LayoutModel",
          "model_module_version": "1.2.0",
          "state": {
            "_model_module": "@jupyter-widgets/base",
            "_model_module_version": "1.2.0",
            "_model_name": "LayoutModel",
            "_view_count": null,
            "_view_module": "@jupyter-widgets/base",
            "_view_module_version": "1.2.0",
            "_view_name": "LayoutView",
            "align_content": null,
            "align_items": null,
            "align_self": null,
            "border": null,
            "bottom": null,
            "display": null,
            "flex": null,
            "flex_flow": null,
            "grid_area": null,
            "grid_auto_columns": null,
            "grid_auto_flow": null,
            "grid_auto_rows": null,
            "grid_column": null,
            "grid_gap": null,
            "grid_row": null,
            "grid_template_areas": null,
            "grid_template_columns": null,
            "grid_template_rows": null,
            "height": null,
            "justify_content": null,
            "justify_items": null,
            "left": null,
            "margin": null,
            "max_height": null,
            "max_width": null,
            "min_height": null,
            "min_width": null,
            "object_fit": null,
            "object_position": null,
            "order": null,
            "overflow": null,
            "overflow_x": null,
            "overflow_y": null,
            "padding": null,
            "right": null,
            "top": null,
            "visibility": null,
            "width": null
          }
        },
        "3a5d495d0598487080d1f1c157cdac4d": {
          "model_module": "@jupyter-widgets/controls",
          "model_name": "DescriptionStyleModel",
          "model_module_version": "1.5.0",
          "state": {
            "_model_module": "@jupyter-widgets/controls",
            "_model_module_version": "1.5.0",
            "_model_name": "DescriptionStyleModel",
            "_view_count": null,
            "_view_module": "@jupyter-widgets/base",
            "_view_module_version": "1.2.0",
            "_view_name": "StyleView",
            "description_width": ""
          }
        },
        "7ef12d8b10444e6497af7cb2b561234b": {
          "model_module": "@jupyter-widgets/base",
          "model_name": "LayoutModel",
          "model_module_version": "1.2.0",
          "state": {
            "_model_module": "@jupyter-widgets/base",
            "_model_module_version": "1.2.0",
            "_model_name": "LayoutModel",
            "_view_count": null,
            "_view_module": "@jupyter-widgets/base",
            "_view_module_version": "1.2.0",
            "_view_name": "LayoutView",
            "align_content": null,
            "align_items": null,
            "align_self": null,
            "border": null,
            "bottom": null,
            "display": null,
            "flex": null,
            "flex_flow": null,
            "grid_area": null,
            "grid_auto_columns": null,
            "grid_auto_flow": null,
            "grid_auto_rows": null,
            "grid_column": null,
            "grid_gap": null,
            "grid_row": null,
            "grid_template_areas": null,
            "grid_template_columns": null,
            "grid_template_rows": null,
            "height": null,
            "justify_content": null,
            "justify_items": null,
            "left": null,
            "margin": null,
            "max_height": null,
            "max_width": null,
            "min_height": null,
            "min_width": null,
            "object_fit": null,
            "object_position": null,
            "order": null,
            "overflow": null,
            "overflow_x": null,
            "overflow_y": null,
            "padding": null,
            "right": null,
            "top": null,
            "visibility": null,
            "width": null
          }
        },
        "ab9cb846e38a44db99242f96847796b6": {
          "model_module": "@jupyter-widgets/controls",
          "model_name": "ProgressStyleModel",
          "model_module_version": "1.5.0",
          "state": {
            "_model_module": "@jupyter-widgets/controls",
            "_model_module_version": "1.5.0",
            "_model_name": "ProgressStyleModel",
            "_view_count": null,
            "_view_module": "@jupyter-widgets/base",
            "_view_module_version": "1.2.0",
            "_view_name": "StyleView",
            "bar_color": null,
            "description_width": ""
          }
        }
      }
    }
  },
  "nbformat": 4,
  "nbformat_minor": 0
}